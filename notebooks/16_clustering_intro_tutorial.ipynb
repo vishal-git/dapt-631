{
 "cells": [
  {
   "cell_type": "markdown",
   "metadata": {},
   "source": [
    "This notebook demonstrates the performance of different clustering algorithms on simulated datasets where cluster memberships are known. \n",
    "Reference: https://scikit-learn.org/stable/auto_examples/cluster/plot_cluster_comparison.html"
   ]
  },
  {
   "cell_type": "markdown",
   "metadata": {},
   "source": [
    "### Import Packages"
   ]
  },
  {
   "cell_type": "code",
   "execution_count": null,
   "metadata": {},
   "outputs": [],
   "source": [
    "# data processing\n",
    "import numpy as np\n",
    "import pandas as pd\n",
    "\n",
    "# modeling\n",
    "from sklearn.preprocessing import StandardScaler\n",
    "from sklearn import cluster\n",
    "\n",
    "# plotting\n",
    "import matplotlib.pyplot as plt\n",
    "import seaborn as sns"
   ]
  },
  {
   "cell_type": "markdown",
   "metadata": {},
   "source": [
    "### Set-up"
   ]
  },
  {
   "cell_type": "code",
   "execution_count": null,
   "metadata": {},
   "outputs": [],
   "source": [
    "# seaborn plot style\n",
    "sns.set_style('white')\n",
    "\n",
    "# color palette for plotting\n",
    "colors = [\"#e74c3c\", \"#34495e\", \"#2ecc71\", \"#4169e1\"]"
   ]
  },
  {
   "cell_type": "markdown",
   "metadata": {},
   "source": [
    "### Read data"
   ]
  },
  {
   "cell_type": "markdown",
   "metadata": {},
   "source": [
    "The following datasets are generated for demonstrative purposes. The goal is to show how characteristics of different clustering algorithms on datasets with different 2D shapes."
   ]
  },
  {
   "cell_type": "code",
   "execution_count": null,
   "metadata": {},
   "outputs": [],
   "source": [
    "git_url = 'https://raw.githubusercontent.com/vishal-git/dapt-631/main/data'\n",
    "\n",
    "# 1. Blobs with varied variances\n",
    "varied = pd.read_csv(f'{git_url}/varied.csv')\n",
    "\n",
    "# 2. Anisotropicly distributed data\n",
    "aniso = pd.read_csv(f'{git_url}/aniso.csv')\n",
    "\n",
    "# 3. Gaussian blobs\n",
    "blobs = pd.read_csv(f'{git_url}/blobs.csv')\n",
    "\n",
    "# 4. No structure\n",
    "no_structure = pd.read_csv(f'{git_url}/no_structure.csv')\n",
    "no_structure['y'] = 0"
   ]
  },
  {
   "cell_type": "markdown",
   "metadata": {},
   "source": [
    "### View datasets"
   ]
  },
  {
   "cell_type": "code",
   "execution_count": null,
   "metadata": {},
   "outputs": [],
   "source": [
    "datasets = [varied, aniso, blobs, no_structure]\n",
    "\n",
    "for dataset in datasets:\n",
    "\n",
    "    # standardize the dataset\n",
    "    X = \n",
    "    \n",
    "    # count the number of clusters in the dataset\n",
    "    n_clus = \n",
    "\n",
    "    # scatter plot\n",
    "    plt.figure(figsize=(5, 5))\n",
    "    sns.scatterplot(x=X[:, 0], y=X[:, 1], hue=dataset['y'], palette=colors[:n_clus])\n",
    "    \n",
    "    # adjust/clean the plot\n",
    "    plt.xlim(-2.5, 2.5)\n",
    "    plt.ylim(-2.5, 2.5)\n",
    "    plt.xticks(())\n",
    "    plt.yticks(())"
   ]
  },
  {
   "cell_type": "markdown",
   "metadata": {},
   "source": [
    "### Agglomerative Clustering using Ward Linkage Method"
   ]
  },
  {
   "cell_type": "code",
   "execution_count": null,
   "metadata": {},
   "outputs": [],
   "source": [
    "req_clus = 3\n",
    "\n",
    "for dataset in datasets:\n",
    "\n",
    "    # standardize the dataset\n",
    "    X = StandardScaler().fit_transform(dataset[['X1', 'X2']])\n",
    "\n",
    "    # fit a model using Ward's linkage\n",
    "    ward = \n",
    "\n",
    "    # predict cluster\n",
    "    y_pred = \n",
    "    \n",
    "    # count the number of _predicted_ clusters\n",
    "    n_pred_clus = \n",
    "\n",
    "    # scatter plot, color each data point according to the predicted cluster\n",
    "    plt.figure(figsize=(5, 5))\n",
    "    sns.scatterplot(x=, y=, hue=, palette=)\n",
    "    \n",
    "    # adjust/clean the plot\n",
    "    plt.xlim(-2.5, 2.5)\n",
    "    plt.ylim(-2.5, 2.5)\n",
    "    plt.xticks(())\n",
    "    plt.yticks(());"
   ]
  },
  {
   "cell_type": "markdown",
   "metadata": {},
   "source": [
    "### Comparisons of two linkage methods for Agglomerative Clustering"
   ]
  },
  {
   "cell_type": "code",
   "execution_count": null,
   "metadata": {},
   "outputs": [],
   "source": [
    "plt.figure(figsize=(15, 20))\n",
    "plot_num = 1\n",
    "\n",
    "for i, dataset in enumerate(datasets):\n",
    "           \n",
    "    X = StandardScaler().fit_transform(dataset[['X1', 'X2']])\n",
    "    \n",
    "    for criterion in ['none', 'ward', 'complete']:\n",
    "\n",
    "        plt.subplot(len(datasets), 3, plot_num)\n",
    "        \n",
    "        if criterion == 'none':\n",
    "                \n",
    "            n_clus = dataset['y'].nunique()\n",
    "            if i == 0:\n",
    "                plt.title(criterion, size=14)\n",
    "                \n",
    "            sns.scatterplot(x=X[:, 0], y=X[:, 1], hue=dataset['y'], palette=colors[:n_clus])\n",
    "\n",
    "        else:\n",
    "            agglomerative = cluster.AgglomerativeClustering(n_clusters=req_clus,\n",
    "                                                            linkage=criterion).fit(X)\n",
    "            y_pred = agglomerative.labels_.astype(int)\n",
    "            n_pred_clus = len(np.unique(y_pred))\n",
    "            if i == 0:\n",
    "                plt.title(criterion, size=14)\n",
    "            sns.scatterplot(x=X[:, 0], y=X[:, 1], hue=y_pred, palette=colors[:n_pred_clus])\n",
    "            \n",
    "        plt.xlim(-2.5, 2.5)\n",
    "        plt.ylim(-2.5, 2.5)\n",
    "        plt.xticks(())\n",
    "        plt.yticks(())\n",
    "        \n",
    "        plot_num += 1\n",
    "    \n",
    "plt.show()"
   ]
  },
  {
   "cell_type": "markdown",
   "metadata": {},
   "source": [
    "___"
   ]
  },
  {
   "cell_type": "markdown",
   "metadata": {},
   "source": [
    "### Comparisons: Agglomerative Clustering vs. _k_-means"
   ]
  },
  {
   "cell_type": "code",
   "execution_count": null,
   "metadata": {},
   "outputs": [],
   "source": [
    "# clustering criterion/methods to use\n",
    "criteria = ['none', 'ward', 'kmeans']\n",
    "plt.figure(figsize=(15, 20))\n",
    "plot_num = 1\n",
    "\n",
    "for i, dataset in enumerate(datasets):\n",
    "           \n",
    "    X = StandardScaler().fit_transform(dataset[['X1', 'X2']])\n",
    "    \n",
    "    for criterion in criteria:\n",
    "\n",
    "        plt.subplot(len(datasets), len(criteria), plot_num)\n",
    "        \n",
    "        if criterion == 'none':\n",
    "                \n",
    "            n_clus = dataset['y'].nunique()\n",
    "            if i == 0:\n",
    "                plt.title(criterion, size=14)\n",
    "                \n",
    "            sns.scatterplot(x=X[:, 0], y=X[:, 1], hue=dataset['y'], palette=colors[:n_clus])\n",
    "\n",
    "        elif criterion == 'ward':\n",
    "            agglomerative = cluster.AgglomerativeClustering(n_clusters=req_clus,\n",
    "                                                            linkage=criterion).fit(X)\n",
    "            y_pred = agglomerative.labels_.astype(int)\n",
    "            n_pred_clus = len(np.unique(y_pred))\n",
    "            if i == 0:\n",
    "                plt.title(criterion, size=14)\n",
    "                \n",
    "            sns.scatterplot(x=X[:, 0], y=X[:, 1], hue=y_pred, palette=colors[:n_pred_clus])\n",
    "            \n",
    "        elif criterion == 'kmeans':\n",
    "            y_pred = \n",
    "            n_pred_clus = len(np.unique(y_pred))\n",
    "            if i == 0:\n",
    "                plt.title(criterion, size=14)\n",
    "                \n",
    "            sns.scatterplot(x=X[:, 0], y=X[:, 1], hue=y_pred, palette=colors[:n_pred_clus])\n",
    "            \n",
    "        else:\n",
    "            print ('Invalid clustering criterion/method specified.')\n",
    "            \n",
    "        plt.xlim(-2.5, 2.5)\n",
    "        plt.ylim(-2.5, 2.5)\n",
    "        plt.xticks(())\n",
    "        plt.yticks(())\n",
    "        \n",
    "        plot_num += 1\n",
    "    \n",
    "plt.show()"
   ]
  },
  {
   "cell_type": "markdown",
   "metadata": {},
   "source": [
    "___"
   ]
  },
  {
   "cell_type": "markdown",
   "metadata": {},
   "source": [
    "### Comparisons: Agglomerative Clustering vs. DBSCAN"
   ]
  },
  {
   "cell_type": "code",
   "execution_count": null,
   "metadata": {},
   "outputs": [],
   "source": [
    "# clustering criterion/methods to use\n",
    "criteria = ['none', 'ward', 'kmeans', 'DBSCAN']\n",
    "plt.figure(figsize=(20, 20))\n",
    "plot_num = 1\n",
    "\n",
    "for i, dataset in enumerate(datasets):\n",
    "           \n",
    "    X = StandardScaler().fit_transform(dataset[['X1', 'X2']])\n",
    "    \n",
    "    for criterion in criteria:\n",
    "\n",
    "        plt.subplot(len(datasets), 4, plot_num)\n",
    "        \n",
    "        if criterion == 'none':\n",
    "                \n",
    "            n_clus = dataset['y'].nunique()\n",
    "            if i == 0:\n",
    "                plt.title(criterion, size=14)\n",
    "            sns.scatterplot(x=X[:, 0], y=X[:, 1], hue=dataset['y'], palette=colors[:n_clus])\n",
    "\n",
    "        elif criterion == 'ward':\n",
    "            agglomerative = cluster.AgglomerativeClustering(n_clusters=req_clus, linkage=criterion).fit(X)\n",
    "            y_pred = agglomerative.labels_.astype(int)\n",
    "            n_pred_clus = len(np.unique(y_pred))\n",
    "            if i == 0:\n",
    "                plt.title(criterion, size=14)\n",
    "                \n",
    "            sns.scatterplot(x=X[:, 0], y=X[:, 1], hue=y_pred, palette=colors[:n_pred_clus])\n",
    "            \n",
    "        elif criterion == 'DBSCAN':\n",
    "            dbscan = \n",
    "            y_pred = \n",
    "            n_pred_clus = len(np.unique(y_pred))\n",
    "            if i == 0:\n",
    "                plt.title(criterion, size=14)\n",
    "                \n",
    "            sns.scatterplot(x=X[:, 0], y=X[:, 1], hue=y_pred, palette=colors[:n_pred_clus])\n",
    "            \n",
    "        elif criterion == 'kmeans':\n",
    "            y_pred = cluster.KMeans(n_clusters=req_clus, n_init=10, random_state=314).fit_predict(X)\n",
    "            n_pred_clus = len(np.unique(y_pred))\n",
    "            if i == 0:\n",
    "                plt.title(criterion, size=14)\n",
    "                \n",
    "            sns.scatterplot(x=X[:, 0], y=X[:, 1], hue=y_pred, palette=colors[:n_pred_clus])\n",
    "            \n",
    "        else:\n",
    "            print ('Invalid clustering criterion/method specified.')\n",
    "            \n",
    "        plt.xlim(-2.5, 2.5)\n",
    "        plt.ylim(-2.5, 2.5)\n",
    "        plt.xticks(())\n",
    "        plt.yticks(())\n",
    "        \n",
    "        plot_num += 1\n",
    "    \n",
    "plt.show()"
   ]
  }
 ],
 "metadata": {
  "kernelspec": {
   "display_name": "Python 3 (ipykernel)",
   "language": "python",
   "name": "python3"
  },
  "language_info": {
   "codemirror_mode": {
    "name": "ipython",
    "version": 3
   },
   "file_extension": ".py",
   "mimetype": "text/x-python",
   "name": "python",
   "nbconvert_exporter": "python",
   "pygments_lexer": "ipython3",
   "version": "3.10.12"
  }
 },
 "nbformat": 4,
 "nbformat_minor": 4
}
