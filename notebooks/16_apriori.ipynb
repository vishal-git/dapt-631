{
 "cells": [
  {
   "cell_type": "markdown",
   "metadata": {},
   "source": [
    "This example is created based on `mlxtend` library's documentation page ([link](https://rasbt.github.io/mlxtend/user_guide/frequent_patterns/association_rules/)). This notebook demonstrates some basic concepts of association analysis "
   ]
  },
  {
   "cell_type": "markdown",
   "metadata": {},
   "source": [
    "### Import Packages"
   ]
  },
  {
   "cell_type": "code",
   "execution_count": 2,
   "metadata": {},
   "outputs": [],
   "source": [
    "import pandas as pd\n",
    "from itertools import combinations\n",
    "from mlxtend.preprocessing import TransactionEncoder"
   ]
  },
  {
   "cell_type": "markdown",
   "metadata": {},
   "source": [
    "### Data"
   ]
  },
  {
   "cell_type": "markdown",
   "metadata": {},
   "source": [
    "Let's create a toy data set for this exercise."
   ]
  },
  {
   "cell_type": "code",
   "execution_count": 3,
   "metadata": {},
   "outputs": [],
   "source": [
    "dataset = [['Milk', 'Onion', 'Nutmeg', 'Kidney Beans', 'Eggs', 'Yogurt'],\n",
    "           ['Dill', 'Onion', 'Nutmeg', 'Kidney Beans', 'Eggs', 'Yogurt'],\n",
    "           ['Milk', 'Apple', 'Kidney Beans', 'Eggs'],\n",
    "           ['Milk', 'Garlic', 'Corn', 'Kidney Beans', 'Yogurt'],\n",
    "           ['Corn', 'Onion', 'Onion', 'Kidney Beans', 'Ice cream', 'Eggs']]"
   ]
  },
  {
   "cell_type": "raw",
   "metadata": {},
   "source": [
    "dataset"
   ]
  },
  {
   "cell_type": "markdown",
   "metadata": {},
   "source": [
    "### Prepare (transform) data"
   ]
  },
  {
   "cell_type": "markdown",
   "metadata": {},
   "source": [
    "Binary representation"
   ]
  },
  {
   "cell_type": "code",
   "execution_count": 4,
   "metadata": {},
   "outputs": [
    {
     "data": {
      "text/plain": [
       "array([[False, False, False,  True, False, False,  True,  True,  True,\n",
       "         True,  True],\n",
       "       [False, False,  True,  True, False, False,  True, False,  True,\n",
       "         True,  True],\n",
       "       [ True, False, False,  True, False, False,  True,  True, False,\n",
       "        False, False],\n",
       "       [False,  True, False, False,  True, False,  True,  True, False,\n",
       "        False,  True],\n",
       "       [False,  True, False,  True, False,  True,  True, False, False,\n",
       "         True, False]])"
      ]
     },
     "execution_count": 4,
     "metadata": {},
     "output_type": "execute_result"
    }
   ],
   "source": [
    "te = TransactionEncoder()\n",
    "\n",
    "te_ary = te.fit(dataset).transform(dataset)\n",
    "\n",
    "te_ary"
   ]
  },
  {
   "cell_type": "code",
   "execution_count": 5,
   "metadata": {},
   "outputs": [
    {
     "data": {
      "text/plain": [
       "['Apple',\n",
       " 'Corn',\n",
       " 'Dill',\n",
       " 'Eggs',\n",
       " 'Garlic',\n",
       " 'Ice cream',\n",
       " 'Kidney Beans',\n",
       " 'Milk',\n",
       " 'Nutmeg',\n",
       " 'Onion',\n",
       " 'Yogurt']"
      ]
     },
     "execution_count": 5,
     "metadata": {},
     "output_type": "execute_result"
    }
   ],
   "source": [
    "te.columns_"
   ]
  },
  {
   "cell_type": "code",
   "execution_count": 6,
   "metadata": {},
   "outputs": [
    {
     "data": {
      "text/html": [
       "<div>\n",
       "<style scoped>\n",
       "    .dataframe tbody tr th:only-of-type {\n",
       "        vertical-align: middle;\n",
       "    }\n",
       "\n",
       "    .dataframe tbody tr th {\n",
       "        vertical-align: top;\n",
       "    }\n",
       "\n",
       "    .dataframe thead th {\n",
       "        text-align: right;\n",
       "    }\n",
       "</style>\n",
       "<table border=\"1\" class=\"dataframe\">\n",
       "  <thead>\n",
       "    <tr style=\"text-align: right;\">\n",
       "      <th></th>\n",
       "      <th>Apple</th>\n",
       "      <th>Corn</th>\n",
       "      <th>Dill</th>\n",
       "      <th>Eggs</th>\n",
       "      <th>Garlic</th>\n",
       "      <th>Ice cream</th>\n",
       "      <th>Kidney Beans</th>\n",
       "      <th>Milk</th>\n",
       "      <th>Nutmeg</th>\n",
       "      <th>Onion</th>\n",
       "      <th>Yogurt</th>\n",
       "    </tr>\n",
       "  </thead>\n",
       "  <tbody>\n",
       "    <tr>\n",
       "      <th>0</th>\n",
       "      <td>False</td>\n",
       "      <td>False</td>\n",
       "      <td>False</td>\n",
       "      <td>True</td>\n",
       "      <td>False</td>\n",
       "      <td>False</td>\n",
       "      <td>True</td>\n",
       "      <td>True</td>\n",
       "      <td>True</td>\n",
       "      <td>True</td>\n",
       "      <td>True</td>\n",
       "    </tr>\n",
       "    <tr>\n",
       "      <th>1</th>\n",
       "      <td>False</td>\n",
       "      <td>False</td>\n",
       "      <td>True</td>\n",
       "      <td>True</td>\n",
       "      <td>False</td>\n",
       "      <td>False</td>\n",
       "      <td>True</td>\n",
       "      <td>False</td>\n",
       "      <td>True</td>\n",
       "      <td>True</td>\n",
       "      <td>True</td>\n",
       "    </tr>\n",
       "    <tr>\n",
       "      <th>2</th>\n",
       "      <td>True</td>\n",
       "      <td>False</td>\n",
       "      <td>False</td>\n",
       "      <td>True</td>\n",
       "      <td>False</td>\n",
       "      <td>False</td>\n",
       "      <td>True</td>\n",
       "      <td>True</td>\n",
       "      <td>False</td>\n",
       "      <td>False</td>\n",
       "      <td>False</td>\n",
       "    </tr>\n",
       "    <tr>\n",
       "      <th>3</th>\n",
       "      <td>False</td>\n",
       "      <td>True</td>\n",
       "      <td>False</td>\n",
       "      <td>False</td>\n",
       "      <td>True</td>\n",
       "      <td>False</td>\n",
       "      <td>True</td>\n",
       "      <td>True</td>\n",
       "      <td>False</td>\n",
       "      <td>False</td>\n",
       "      <td>True</td>\n",
       "    </tr>\n",
       "    <tr>\n",
       "      <th>4</th>\n",
       "      <td>False</td>\n",
       "      <td>True</td>\n",
       "      <td>False</td>\n",
       "      <td>True</td>\n",
       "      <td>False</td>\n",
       "      <td>True</td>\n",
       "      <td>True</td>\n",
       "      <td>False</td>\n",
       "      <td>False</td>\n",
       "      <td>True</td>\n",
       "      <td>False</td>\n",
       "    </tr>\n",
       "  </tbody>\n",
       "</table>\n",
       "</div>"
      ],
      "text/plain": [
       "   Apple   Corn   Dill   Eggs  Garlic  Ice cream  Kidney Beans   Milk  Nutmeg  \\\n",
       "0  False  False  False   True   False      False          True   True    True   \n",
       "1  False  False   True   True   False      False          True  False    True   \n",
       "2   True  False  False   True   False      False          True   True   False   \n",
       "3  False   True  False  False    True      False          True   True   False   \n",
       "4  False   True  False   True   False       True          True  False   False   \n",
       "\n",
       "   Onion  Yogurt  \n",
       "0   True    True  \n",
       "1   True    True  \n",
       "2  False   False  \n",
       "3  False    True  \n",
       "4   True   False  "
      ]
     },
     "execution_count": 6,
     "metadata": {},
     "output_type": "execute_result"
    }
   ],
   "source": [
    "# let's create a dataframe from these results\n",
    "df = pd.DataFrame(te_ary, columns=te.columns_)\n",
    "\n",
    "df"
   ]
  },
  {
   "cell_type": "markdown",
   "metadata": {},
   "source": [
    "### `Support`"
   ]
  },
  {
   "cell_type": "markdown",
   "metadata": {},
   "source": [
    "Calculate `support` for each individual product."
   ]
  },
  {
   "cell_type": "code",
   "execution_count": 7,
   "metadata": {},
   "outputs": [
    {
     "data": {
      "text/plain": [
       "Apple           1\n",
       "Corn            2\n",
       "Dill            1\n",
       "Eggs            4\n",
       "Garlic          1\n",
       "Ice cream       1\n",
       "Kidney Beans    5\n",
       "Milk            3\n",
       "Nutmeg          2\n",
       "Onion           3\n",
       "Yogurt          3\n",
       "dtype: int64"
      ]
     },
     "execution_count": 7,
     "metadata": {},
     "output_type": "execute_result"
    }
   ],
   "source": [
    "df.sum()"
   ]
  },
  {
   "cell_type": "code",
   "execution_count": 8,
   "metadata": {},
   "outputs": [
    {
     "data": {
      "text/plain": [
       "Apple           0.2\n",
       "Corn            0.4\n",
       "Dill            0.2\n",
       "Eggs            0.8\n",
       "Garlic          0.2\n",
       "Ice cream       0.2\n",
       "Kidney Beans    1.0\n",
       "Milk            0.6\n",
       "Nutmeg          0.4\n",
       "Onion           0.6\n",
       "Yogurt          0.6\n",
       "dtype: float64"
      ]
     },
     "execution_count": 8,
     "metadata": {},
     "output_type": "execute_result"
    }
   ],
   "source": [
    "item_supports = df.sum() / len(df)\n",
    "\n",
    "item_supports"
   ]
  },
  {
   "cell_type": "code",
   "execution_count": 9,
   "metadata": {},
   "outputs": [
    {
     "name": "stdout",
     "output_type": "stream",
     "text": [
      "Kidney Beans    1.0\n",
      "Eggs            0.8\n",
      "Milk            0.6\n",
      "Onion           0.6\n",
      "Yogurt          0.6\n",
      "Corn            0.4\n",
      "Nutmeg          0.4\n",
      "Apple           0.2\n",
      "Dill            0.2\n",
      "Garlic          0.2\n",
      "Ice cream       0.2\n",
      "dtype: float64\n"
     ]
    }
   ],
   "source": [
    "item_supports = item_supports.sort_values(ascending=False)\n",
    "\n",
    "print (item_supports)"
   ]
  },
  {
   "cell_type": "code",
   "execution_count": 10,
   "metadata": {},
   "outputs": [
    {
     "data": {
      "image/png": "[encoded data removed]",
      "text/plain": [
       "<Figure size 640x480 with 1 Axes>"
      ]
     },
     "metadata": {},
     "output_type": "display_data"
    }
   ],
   "source": [
    "item_supports.plot.bar();"
   ]
  },
  {
   "cell_type": "markdown",
   "metadata": {},
   "source": [
    "Extract all two-way combinations."
   ]
  },
  {
   "cell_type": "code",
   "execution_count": 11,
   "metadata": {},
   "outputs": [
    {
     "data": {
      "text/plain": [
       "['Milk', 'Onion', 'Nutmeg', 'Kidney Beans', 'Eggs', 'Yogurt']"
      ]
     },
     "execution_count": 11,
     "metadata": {},
     "output_type": "execute_result"
    }
   ],
   "source": [
    "# let's take the first row as an example first\n",
    "dataset[0]"
   ]
  },
  {
   "cell_type": "code",
   "execution_count": 12,
   "metadata": {},
   "outputs": [
    {
     "data": {
      "text/plain": [
       "[('Milk', 'Onion'),\n",
       " ('Milk', 'Nutmeg'),\n",
       " ('Milk', 'Kidney Beans'),\n",
       " ('Milk', 'Eggs'),\n",
       " ('Milk', 'Yogurt'),\n",
       " ('Onion', 'Nutmeg'),\n",
       " ('Onion', 'Kidney Beans'),\n",
       " ('Onion', 'Eggs'),\n",
       " ('Onion', 'Yogurt'),\n",
       " ('Nutmeg', 'Kidney Beans'),\n",
       " ('Nutmeg', 'Eggs'),\n",
       " ('Nutmeg', 'Yogurt'),\n",
       " ('Kidney Beans', 'Eggs'),\n",
       " ('Kidney Beans', 'Yogurt'),\n",
       " ('Eggs', 'Yogurt')]"
      ]
     },
     "execution_count": 12,
     "metadata": {},
     "output_type": "execute_result"
    }
   ],
   "source": [
    "# extract all two-way combinations\n",
    "list(combinations(dataset[0], 2))"
   ]
  },
  {
   "cell_type": "markdown",
   "metadata": {},
   "source": [
    "We can use this approach to calculate `support` for each pair of items _from the entire dataset_."
   ]
  },
  {
   "cell_type": "code",
   "execution_count": 13,
   "metadata": {},
   "outputs": [
    {
     "data": {
      "text/plain": [
       "56"
      ]
     },
     "execution_count": 13,
     "metadata": {},
     "output_type": "execute_result"
    }
   ],
   "source": [
    "# save each two-way item pair into an array\n",
    "item_pairs = []\n",
    "\n",
    "for i, order in enumerate(dataset):\n",
    "    pairs = combinations(set(order), 2)\n",
    "    \n",
    "    # for each product pair\n",
    "    for item_pair in pairs:\n",
    "        item_pairs.append(item_pair)\n",
    "        \n",
    "len(item_pairs)"
   ]
  },
  {
   "cell_type": "code",
   "execution_count": 14,
   "metadata": {},
   "outputs": [
    {
     "data": {
      "text/plain": [
       "[('Onion', 'Yogurt'),\n",
       " ('Onion', 'Nutmeg'),\n",
       " ('Onion', 'Kidney Beans'),\n",
       " ('Onion', 'Eggs'),\n",
       " ('Onion', 'Milk'),\n",
       " ('Yogurt', 'Nutmeg'),\n",
       " ('Yogurt', 'Kidney Beans'),\n",
       " ('Yogurt', 'Eggs'),\n",
       " ('Yogurt', 'Milk'),\n",
       " ('Nutmeg', 'Kidney Beans'),\n",
       " ('Nutmeg', 'Eggs'),\n",
       " ('Nutmeg', 'Milk'),\n",
       " ('Kidney Beans', 'Eggs'),\n",
       " ('Kidney Beans', 'Milk'),\n",
       " ('Eggs', 'Milk'),\n",
       " ('Onion', 'Dill'),\n",
       " ('Onion', 'Yogurt'),\n",
       " ('Onion', 'Nutmeg'),\n",
       " ('Onion', 'Kidney Beans'),\n",
       " ('Onion', 'Eggs'),\n",
       " ('Dill', 'Yogurt'),\n",
       " ('Dill', 'Nutmeg'),\n",
       " ('Dill', 'Kidney Beans'),\n",
       " ('Dill', 'Eggs'),\n",
       " ('Yogurt', 'Nutmeg'),\n",
       " ('Yogurt', 'Kidney Beans'),\n",
       " ('Yogurt', 'Eggs'),\n",
       " ('Nutmeg', 'Kidney Beans'),\n",
       " ('Nutmeg', 'Eggs'),\n",
       " ('Kidney Beans', 'Eggs'),\n",
       " ('Kidney Beans', 'Milk'),\n",
       " ('Kidney Beans', 'Apple'),\n",
       " ('Kidney Beans', 'Eggs'),\n",
       " ('Milk', 'Apple'),\n",
       " ('Milk', 'Eggs'),\n",
       " ('Apple', 'Eggs'),\n",
       " ('Yogurt', 'Milk'),\n",
       " ('Yogurt', 'Kidney Beans'),\n",
       " ('Yogurt', 'Corn'),\n",
       " ('Yogurt', 'Garlic'),\n",
       " ('Milk', 'Kidney Beans'),\n",
       " ('Milk', 'Corn'),\n",
       " ('Milk', 'Garlic'),\n",
       " ('Kidney Beans', 'Corn'),\n",
       " ('Kidney Beans', 'Garlic'),\n",
       " ('Corn', 'Garlic'),\n",
       " ('Onion', 'Kidney Beans'),\n",
       " ('Onion', 'Corn'),\n",
       " ('Onion', 'Eggs'),\n",
       " ('Onion', 'Ice cream'),\n",
       " ('Kidney Beans', 'Corn'),\n",
       " ('Kidney Beans', 'Eggs'),\n",
       " ('Kidney Beans', 'Ice cream'),\n",
       " ('Corn', 'Eggs'),\n",
       " ('Corn', 'Ice cream'),\n",
       " ('Eggs', 'Ice cream')]"
      ]
     },
     "execution_count": 14,
     "metadata": {},
     "output_type": "execute_result"
    }
   ],
   "source": [
    "item_pairs"
   ]
  },
  {
   "cell_type": "markdown",
   "metadata": {},
   "source": [
    "Count how frequent each item-pair is."
   ]
  },
  {
   "cell_type": "code",
   "execution_count": 15,
   "metadata": {},
   "outputs": [
    {
     "data": {
      "text/plain": [
       "Counter({('Eggs', 'Kidney Beans'): 4,\n",
       "         ('Kidney Beans', 'Onion'): 3,\n",
       "         ('Eggs', 'Onion'): 3,\n",
       "         ('Kidney Beans', 'Yogurt'): 3,\n",
       "         ('Kidney Beans', 'Milk'): 3,\n",
       "         ('Onion', 'Yogurt'): 2,\n",
       "         ('Nutmeg', 'Onion'): 2,\n",
       "         ('Nutmeg', 'Yogurt'): 2,\n",
       "         ('Eggs', 'Yogurt'): 2,\n",
       "         ('Milk', 'Yogurt'): 2,\n",
       "         ('Kidney Beans', 'Nutmeg'): 2,\n",
       "         ('Eggs', 'Nutmeg'): 2,\n",
       "         ('Eggs', 'Milk'): 2,\n",
       "         ('Corn', 'Kidney Beans'): 2,\n",
       "         ('Milk', 'Onion'): 1,\n",
       "         ('Milk', 'Nutmeg'): 1,\n",
       "         ('Dill', 'Onion'): 1,\n",
       "         ('Dill', 'Yogurt'): 1,\n",
       "         ('Dill', 'Nutmeg'): 1,\n",
       "         ('Dill', 'Kidney Beans'): 1,\n",
       "         ('Dill', 'Eggs'): 1,\n",
       "         ('Apple', 'Kidney Beans'): 1,\n",
       "         ('Apple', 'Milk'): 1,\n",
       "         ('Apple', 'Eggs'): 1,\n",
       "         ('Corn', 'Yogurt'): 1,\n",
       "         ('Garlic', 'Yogurt'): 1,\n",
       "         ('Corn', 'Milk'): 1,\n",
       "         ('Garlic', 'Milk'): 1,\n",
       "         ('Garlic', 'Kidney Beans'): 1,\n",
       "         ('Corn', 'Garlic'): 1,\n",
       "         ('Corn', 'Onion'): 1,\n",
       "         ('Ice cream', 'Onion'): 1,\n",
       "         ('Ice cream', 'Kidney Beans'): 1,\n",
       "         ('Corn', 'Eggs'): 1,\n",
       "         ('Corn', 'Ice cream'): 1,\n",
       "         ('Eggs', 'Ice cream'): 1})"
      ]
     },
     "execution_count": 15,
     "metadata": {},
     "output_type": "execute_result"
    }
   ],
   "source": [
    "from collections import Counter\n",
    "\n",
    "Counter(tuple(sorted(elem)) for elem in item_pairs)"
   ]
  },
  {
   "cell_type": "markdown",
   "metadata": {},
   "source": [
    "We must use `sorted()` option here because otherwise (Eggs, Kidney Beans) is considered a different set than (Kidney Beans, Eggs)."
   ]
  },
  {
   "cell_type": "markdown",
   "metadata": {},
   "source": [
    "Let's save the results in a dictionary and sort it in descending order of frequency."
   ]
  },
  {
   "cell_type": "code",
   "execution_count": 16,
   "metadata": {},
   "outputs": [
    {
     "data": {
      "text/plain": [
       "dict_items([(('Onion', 'Yogurt'), 2), (('Nutmeg', 'Onion'), 2), (('Kidney Beans', 'Onion'), 3), (('Eggs', 'Onion'), 3), (('Milk', 'Onion'), 1), (('Nutmeg', 'Yogurt'), 2), (('Kidney Beans', 'Yogurt'), 3), (('Eggs', 'Yogurt'), 2), (('Milk', 'Yogurt'), 2), (('Kidney Beans', 'Nutmeg'), 2), (('Eggs', 'Nutmeg'), 2), (('Milk', 'Nutmeg'), 1), (('Eggs', 'Kidney Beans'), 4), (('Kidney Beans', 'Milk'), 3), (('Eggs', 'Milk'), 2), (('Dill', 'Onion'), 1), (('Dill', 'Yogurt'), 1), (('Dill', 'Nutmeg'), 1), (('Dill', 'Kidney Beans'), 1), (('Dill', 'Eggs'), 1), (('Apple', 'Kidney Beans'), 1), (('Apple', 'Milk'), 1), (('Apple', 'Eggs'), 1), (('Corn', 'Yogurt'), 1), (('Garlic', 'Yogurt'), 1), (('Corn', 'Milk'), 1), (('Garlic', 'Milk'), 1), (('Corn', 'Kidney Beans'), 2), (('Garlic', 'Kidney Beans'), 1), (('Corn', 'Garlic'), 1), (('Corn', 'Onion'), 1), (('Ice cream', 'Onion'), 1), (('Ice cream', 'Kidney Beans'), 1), (('Corn', 'Eggs'), 1), (('Corn', 'Ice cream'), 1), (('Eggs', 'Ice cream'), 1)])"
      ]
     },
     "execution_count": 16,
     "metadata": {},
     "output_type": "execute_result"
    }
   ],
   "source": [
    "item_pair_ct = Counter(tuple(sorted(elem)) for elem in item_pairs)\n",
    "\n",
    "item_pair_ct.items()"
   ]
  },
  {
   "cell_type": "code",
   "execution_count": 17,
   "metadata": {},
   "outputs": [
    {
     "data": {
      "text/plain": [
       "[(('Eggs', 'Kidney Beans'), 4),\n",
       " (('Kidney Beans', 'Onion'), 3),\n",
       " (('Eggs', 'Onion'), 3),\n",
       " (('Kidney Beans', 'Yogurt'), 3),\n",
       " (('Kidney Beans', 'Milk'), 3),\n",
       " (('Onion', 'Yogurt'), 2),\n",
       " (('Nutmeg', 'Onion'), 2),\n",
       " (('Nutmeg', 'Yogurt'), 2),\n",
       " (('Eggs', 'Yogurt'), 2),\n",
       " (('Milk', 'Yogurt'), 2),\n",
       " (('Kidney Beans', 'Nutmeg'), 2),\n",
       " (('Eggs', 'Nutmeg'), 2),\n",
       " (('Eggs', 'Milk'), 2),\n",
       " (('Corn', 'Kidney Beans'), 2),\n",
       " (('Milk', 'Onion'), 1),\n",
       " (('Milk', 'Nutmeg'), 1),\n",
       " (('Dill', 'Onion'), 1),\n",
       " (('Dill', 'Yogurt'), 1),\n",
       " (('Dill', 'Nutmeg'), 1),\n",
       " (('Dill', 'Kidney Beans'), 1),\n",
       " (('Dill', 'Eggs'), 1),\n",
       " (('Apple', 'Kidney Beans'), 1),\n",
       " (('Apple', 'Milk'), 1),\n",
       " (('Apple', 'Eggs'), 1),\n",
       " (('Corn', 'Yogurt'), 1),\n",
       " (('Garlic', 'Yogurt'), 1),\n",
       " (('Corn', 'Milk'), 1),\n",
       " (('Garlic', 'Milk'), 1),\n",
       " (('Garlic', 'Kidney Beans'), 1),\n",
       " (('Corn', 'Garlic'), 1),\n",
       " (('Corn', 'Onion'), 1),\n",
       " (('Ice cream', 'Onion'), 1),\n",
       " (('Ice cream', 'Kidney Beans'), 1),\n",
       " (('Corn', 'Eggs'), 1),\n",
       " (('Corn', 'Ice cream'), 1),\n",
       " (('Eggs', 'Ice cream'), 1)]"
      ]
     },
     "execution_count": 17,
     "metadata": {},
     "output_type": "execute_result"
    }
   ],
   "source": [
    "# sort the array ot tuples from high to low frequency\n",
    "sorted(item_pair_ct.items(), key=lambda x: x[1], reverse=True)"
   ]
  },
  {
   "cell_type": "code",
   "execution_count": 18,
   "metadata": {},
   "outputs": [
    {
     "name": "stdout",
     "output_type": "stream",
     "text": [
      "{('Eggs', 'Kidney Beans'): 0.8, ('Kidney Beans', 'Onion'): 0.6, ('Eggs', 'Onion'): 0.6, ('Kidney Beans', 'Yogurt'): 0.6, ('Kidney Beans', 'Milk'): 0.6, ('Onion', 'Yogurt'): 0.4, ('Nutmeg', 'Onion'): 0.4, ('Nutmeg', 'Yogurt'): 0.4, ('Eggs', 'Yogurt'): 0.4, ('Milk', 'Yogurt'): 0.4, ('Kidney Beans', 'Nutmeg'): 0.4, ('Eggs', 'Nutmeg'): 0.4, ('Eggs', 'Milk'): 0.4, ('Corn', 'Kidney Beans'): 0.4, ('Milk', 'Onion'): 0.2, ('Milk', 'Nutmeg'): 0.2, ('Dill', 'Onion'): 0.2, ('Dill', 'Yogurt'): 0.2, ('Dill', 'Nutmeg'): 0.2, ('Dill', 'Kidney Beans'): 0.2, ('Dill', 'Eggs'): 0.2, ('Apple', 'Kidney Beans'): 0.2, ('Apple', 'Milk'): 0.2, ('Apple', 'Eggs'): 0.2, ('Corn', 'Yogurt'): 0.2, ('Garlic', 'Yogurt'): 0.2, ('Corn', 'Milk'): 0.2, ('Garlic', 'Milk'): 0.2, ('Garlic', 'Kidney Beans'): 0.2, ('Corn', 'Garlic'): 0.2, ('Corn', 'Onion'): 0.2, ('Ice cream', 'Onion'): 0.2, ('Ice cream', 'Kidney Beans'): 0.2, ('Corn', 'Eggs'): 0.2, ('Corn', 'Ice cream'): 0.2, ('Eggs', 'Ice cream'): 0.2}\n"
     ]
    }
   ],
   "source": [
    "# store the sorted results\n",
    "item_pair_ct_sorted = sorted(item_pair_ct.items(), key=lambda x: x[1], reverse=True)\n",
    "\n",
    "# let's calculate the percentages (i.e., support) from these counts\n",
    "item_pair_pct_sorted = {}\n",
    "\n",
    "for i, item_pair in enumerate(item_pair_ct_sorted):\n",
    "    item_pair_pct_sorted[item_pair[0]] = item_pair[1] / len(dataset)\n",
    "    \n",
    "print (item_pair_pct_sorted)"
   ]
  },
  {
   "cell_type": "markdown",
   "metadata": {},
   "source": [
    "### `Support` Filter"
   ]
  },
  {
   "cell_type": "code",
   "execution_count": 19,
   "metadata": {},
   "outputs": [
    {
     "data": {
      "text/plain": [
       "Kidney Beans    1.0\n",
       "Eggs            0.8\n",
       "Milk            0.6\n",
       "Onion           0.6\n",
       "Yogurt          0.6\n",
       "dtype: float64"
      ]
     },
     "execution_count": 19,
     "metadata": {},
     "output_type": "execute_result"
    }
   ],
   "source": [
    "# for this exercise, we will use a support threshold of 0.6\n",
    "min_support = 0.5\n",
    "\n",
    "# extract all items that satisfy the support criterion\n",
    "item_supports[item_supports >= min_support]"
   ]
  },
  {
   "cell_type": "code",
   "execution_count": 20,
   "metadata": {},
   "outputs": [
    {
     "data": {
      "image/png": "[encoded data removed]",
      "text/plain": [
       "<Figure size 640x480 with 1 Axes>"
      ]
     },
     "metadata": {},
     "output_type": "display_data"
    }
   ],
   "source": [
    "ax = item_supports.plot.bar()\n",
    "ax.axhline(min_support, c='r');"
   ]
  },
  {
   "cell_type": "code",
   "execution_count": 21,
   "metadata": {},
   "outputs": [
    {
     "name": "stdout",
     "output_type": "stream",
     "text": [
      "('Eggs', 'Kidney Beans') 0.8\n",
      "('Kidney Beans', 'Onion') 0.6\n",
      "('Eggs', 'Onion') 0.6\n",
      "('Kidney Beans', 'Yogurt') 0.6\n",
      "('Kidney Beans', 'Milk') 0.6\n"
     ]
    }
   ],
   "source": [
    "# print all item-sets that satisfy the support criterion\n",
    "for key, value in item_pair_pct_sorted.items():\n",
    "    if value >= min_support:\n",
    "        print (key, value)"
   ]
  },
  {
   "cell_type": "markdown",
   "metadata": {},
   "source": [
    "______"
   ]
  },
  {
   "cell_type": "markdown",
   "metadata": {},
   "source": [
    "Instead of doing all these calculations manually, we can use `mlxtend`."
   ]
  },
  {
   "cell_type": "code",
   "execution_count": 22,
   "metadata": {},
   "outputs": [
    {
     "data": {
      "text/html": [
       "<div>\n",
       "<style scoped>\n",
       "    .dataframe tbody tr th:only-of-type {\n",
       "        vertical-align: middle;\n",
       "    }\n",
       "\n",
       "    .dataframe tbody tr th {\n",
       "        vertical-align: top;\n",
       "    }\n",
       "\n",
       "    .dataframe thead th {\n",
       "        text-align: right;\n",
       "    }\n",
       "</style>\n",
       "<table border=\"1\" class=\"dataframe\">\n",
       "  <thead>\n",
       "    <tr style=\"text-align: right;\">\n",
       "      <th></th>\n",
       "      <th>support</th>\n",
       "      <th>itemsets</th>\n",
       "    </tr>\n",
       "  </thead>\n",
       "  <tbody>\n",
       "    <tr>\n",
       "      <th>0</th>\n",
       "      <td>0.8</td>\n",
       "      <td>(Eggs)</td>\n",
       "    </tr>\n",
       "    <tr>\n",
       "      <th>1</th>\n",
       "      <td>1.0</td>\n",
       "      <td>(Kidney Beans)</td>\n",
       "    </tr>\n",
       "    <tr>\n",
       "      <th>2</th>\n",
       "      <td>0.6</td>\n",
       "      <td>(Milk)</td>\n",
       "    </tr>\n",
       "    <tr>\n",
       "      <th>3</th>\n",
       "      <td>0.6</td>\n",
       "      <td>(Onion)</td>\n",
       "    </tr>\n",
       "    <tr>\n",
       "      <th>4</th>\n",
       "      <td>0.6</td>\n",
       "      <td>(Yogurt)</td>\n",
       "    </tr>\n",
       "    <tr>\n",
       "      <th>5</th>\n",
       "      <td>0.8</td>\n",
       "      <td>(Kidney Beans, Eggs)</td>\n",
       "    </tr>\n",
       "    <tr>\n",
       "      <th>6</th>\n",
       "      <td>0.6</td>\n",
       "      <td>(Onion, Eggs)</td>\n",
       "    </tr>\n",
       "    <tr>\n",
       "      <th>7</th>\n",
       "      <td>0.6</td>\n",
       "      <td>(Kidney Beans, Milk)</td>\n",
       "    </tr>\n",
       "    <tr>\n",
       "      <th>8</th>\n",
       "      <td>0.6</td>\n",
       "      <td>(Kidney Beans, Onion)</td>\n",
       "    </tr>\n",
       "    <tr>\n",
       "      <th>9</th>\n",
       "      <td>0.6</td>\n",
       "      <td>(Kidney Beans, Yogurt)</td>\n",
       "    </tr>\n",
       "    <tr>\n",
       "      <th>10</th>\n",
       "      <td>0.6</td>\n",
       "      <td>(Kidney Beans, Onion, Eggs)</td>\n",
       "    </tr>\n",
       "  </tbody>\n",
       "</table>\n",
       "</div>"
      ],
      "text/plain": [
       "    support                     itemsets\n",
       "0       0.8                       (Eggs)\n",
       "1       1.0               (Kidney Beans)\n",
       "2       0.6                       (Milk)\n",
       "3       0.6                      (Onion)\n",
       "4       0.6                     (Yogurt)\n",
       "5       0.8         (Kidney Beans, Eggs)\n",
       "6       0.6                (Onion, Eggs)\n",
       "7       0.6         (Kidney Beans, Milk)\n",
       "8       0.6        (Kidney Beans, Onion)\n",
       "9       0.6       (Kidney Beans, Yogurt)\n",
       "10      0.6  (Kidney Beans, Onion, Eggs)"
      ]
     },
     "execution_count": 22,
     "metadata": {},
     "output_type": "execute_result"
    }
   ],
   "source": [
    "from mlxtend.frequent_patterns import apriori\n",
    "\n",
    "frequent_itemsets = apriori(df, min_support=0.5, use_colnames=True)\n",
    "\n",
    "frequent_itemsets"
   ]
  },
  {
   "cell_type": "code",
   "execution_count": 23,
   "metadata": {},
   "outputs": [
    {
     "data": {
      "text/html": [
       "<div>\n",
       "<style scoped>\n",
       "    .dataframe tbody tr th:only-of-type {\n",
       "        vertical-align: middle;\n",
       "    }\n",
       "\n",
       "    .dataframe tbody tr th {\n",
       "        vertical-align: top;\n",
       "    }\n",
       "\n",
       "    .dataframe thead th {\n",
       "        text-align: right;\n",
       "    }\n",
       "</style>\n",
       "<table border=\"1\" class=\"dataframe\">\n",
       "  <thead>\n",
       "    <tr style=\"text-align: right;\">\n",
       "      <th></th>\n",
       "      <th>antecedents</th>\n",
       "      <th>consequents</th>\n",
       "      <th>antecedent support</th>\n",
       "      <th>consequent support</th>\n",
       "      <th>support</th>\n",
       "      <th>confidence</th>\n",
       "      <th>lift</th>\n",
       "      <th>leverage</th>\n",
       "      <th>conviction</th>\n",
       "      <th>zhangs_metric</th>\n",
       "    </tr>\n",
       "  </thead>\n",
       "  <tbody>\n",
       "    <tr>\n",
       "      <th>0</th>\n",
       "      <td>(Kidney Beans)</td>\n",
       "      <td>(Eggs)</td>\n",
       "      <td>1.0</td>\n",
       "      <td>0.8</td>\n",
       "      <td>0.8</td>\n",
       "      <td>0.80</td>\n",
       "      <td>1.00</td>\n",
       "      <td>0.00</td>\n",
       "      <td>1.0</td>\n",
       "      <td>0.0</td>\n",
       "    </tr>\n",
       "    <tr>\n",
       "      <th>1</th>\n",
       "      <td>(Eggs)</td>\n",
       "      <td>(Kidney Beans)</td>\n",
       "      <td>0.8</td>\n",
       "      <td>1.0</td>\n",
       "      <td>0.8</td>\n",
       "      <td>1.00</td>\n",
       "      <td>1.00</td>\n",
       "      <td>0.00</td>\n",
       "      <td>inf</td>\n",
       "      <td>0.0</td>\n",
       "    </tr>\n",
       "    <tr>\n",
       "      <th>2</th>\n",
       "      <td>(Onion)</td>\n",
       "      <td>(Eggs)</td>\n",
       "      <td>0.6</td>\n",
       "      <td>0.8</td>\n",
       "      <td>0.6</td>\n",
       "      <td>1.00</td>\n",
       "      <td>1.25</td>\n",
       "      <td>0.12</td>\n",
       "      <td>inf</td>\n",
       "      <td>0.5</td>\n",
       "    </tr>\n",
       "    <tr>\n",
       "      <th>3</th>\n",
       "      <td>(Eggs)</td>\n",
       "      <td>(Onion)</td>\n",
       "      <td>0.8</td>\n",
       "      <td>0.6</td>\n",
       "      <td>0.6</td>\n",
       "      <td>0.75</td>\n",
       "      <td>1.25</td>\n",
       "      <td>0.12</td>\n",
       "      <td>1.6</td>\n",
       "      <td>1.0</td>\n",
       "    </tr>\n",
       "    <tr>\n",
       "      <th>4</th>\n",
       "      <td>(Milk)</td>\n",
       "      <td>(Kidney Beans)</td>\n",
       "      <td>0.6</td>\n",
       "      <td>1.0</td>\n",
       "      <td>0.6</td>\n",
       "      <td>1.00</td>\n",
       "      <td>1.00</td>\n",
       "      <td>0.00</td>\n",
       "      <td>inf</td>\n",
       "      <td>0.0</td>\n",
       "    </tr>\n",
       "    <tr>\n",
       "      <th>5</th>\n",
       "      <td>(Onion)</td>\n",
       "      <td>(Kidney Beans)</td>\n",
       "      <td>0.6</td>\n",
       "      <td>1.0</td>\n",
       "      <td>0.6</td>\n",
       "      <td>1.00</td>\n",
       "      <td>1.00</td>\n",
       "      <td>0.00</td>\n",
       "      <td>inf</td>\n",
       "      <td>0.0</td>\n",
       "    </tr>\n",
       "    <tr>\n",
       "      <th>6</th>\n",
       "      <td>(Yogurt)</td>\n",
       "      <td>(Kidney Beans)</td>\n",
       "      <td>0.6</td>\n",
       "      <td>1.0</td>\n",
       "      <td>0.6</td>\n",
       "      <td>1.00</td>\n",
       "      <td>1.00</td>\n",
       "      <td>0.00</td>\n",
       "      <td>inf</td>\n",
       "      <td>0.0</td>\n",
       "    </tr>\n",
       "    <tr>\n",
       "      <th>7</th>\n",
       "      <td>(Kidney Beans, Onion)</td>\n",
       "      <td>(Eggs)</td>\n",
       "      <td>0.6</td>\n",
       "      <td>0.8</td>\n",
       "      <td>0.6</td>\n",
       "      <td>1.00</td>\n",
       "      <td>1.25</td>\n",
       "      <td>0.12</td>\n",
       "      <td>inf</td>\n",
       "      <td>0.5</td>\n",
       "    </tr>\n",
       "    <tr>\n",
       "      <th>8</th>\n",
       "      <td>(Kidney Beans, Eggs)</td>\n",
       "      <td>(Onion)</td>\n",
       "      <td>0.8</td>\n",
       "      <td>0.6</td>\n",
       "      <td>0.6</td>\n",
       "      <td>0.75</td>\n",
       "      <td>1.25</td>\n",
       "      <td>0.12</td>\n",
       "      <td>1.6</td>\n",
       "      <td>1.0</td>\n",
       "    </tr>\n",
       "    <tr>\n",
       "      <th>9</th>\n",
       "      <td>(Onion, Eggs)</td>\n",
       "      <td>(Kidney Beans)</td>\n",
       "      <td>0.6</td>\n",
       "      <td>1.0</td>\n",
       "      <td>0.6</td>\n",
       "      <td>1.00</td>\n",
       "      <td>1.00</td>\n",
       "      <td>0.00</td>\n",
       "      <td>inf</td>\n",
       "      <td>0.0</td>\n",
       "    </tr>\n",
       "    <tr>\n",
       "      <th>10</th>\n",
       "      <td>(Onion)</td>\n",
       "      <td>(Kidney Beans, Eggs)</td>\n",
       "      <td>0.6</td>\n",
       "      <td>0.8</td>\n",
       "      <td>0.6</td>\n",
       "      <td>1.00</td>\n",
       "      <td>1.25</td>\n",
       "      <td>0.12</td>\n",
       "      <td>inf</td>\n",
       "      <td>0.5</td>\n",
       "    </tr>\n",
       "    <tr>\n",
       "      <th>11</th>\n",
       "      <td>(Eggs)</td>\n",
       "      <td>(Kidney Beans, Onion)</td>\n",
       "      <td>0.8</td>\n",
       "      <td>0.6</td>\n",
       "      <td>0.6</td>\n",
       "      <td>0.75</td>\n",
       "      <td>1.25</td>\n",
       "      <td>0.12</td>\n",
       "      <td>1.6</td>\n",
       "      <td>1.0</td>\n",
       "    </tr>\n",
       "  </tbody>\n",
       "</table>\n",
       "</div>"
      ],
      "text/plain": [
       "              antecedents            consequents  antecedent support  \\\n",
       "0          (Kidney Beans)                 (Eggs)                 1.0   \n",
       "1                  (Eggs)         (Kidney Beans)                 0.8   \n",
       "2                 (Onion)                 (Eggs)                 0.6   \n",
       "3                  (Eggs)                (Onion)                 0.8   \n",
       "4                  (Milk)         (Kidney Beans)                 0.6   \n",
       "5                 (Onion)         (Kidney Beans)                 0.6   \n",
       "6                (Yogurt)         (Kidney Beans)                 0.6   \n",
       "7   (Kidney Beans, Onion)                 (Eggs)                 0.6   \n",
       "8    (Kidney Beans, Eggs)                (Onion)                 0.8   \n",
       "9           (Onion, Eggs)         (Kidney Beans)                 0.6   \n",
       "10                (Onion)   (Kidney Beans, Eggs)                 0.6   \n",
       "11                 (Eggs)  (Kidney Beans, Onion)                 0.8   \n",
       "\n",
       "    consequent support  support  confidence  lift  leverage  conviction  \\\n",
       "0                  0.8      0.8        0.80  1.00      0.00         1.0   \n",
       "1                  1.0      0.8        1.00  1.00      0.00         inf   \n",
       "2                  0.8      0.6        1.00  1.25      0.12         inf   \n",
       "3                  0.6      0.6        0.75  1.25      0.12         1.6   \n",
       "4                  1.0      0.6        1.00  1.00      0.00         inf   \n",
       "5                  1.0      0.6        1.00  1.00      0.00         inf   \n",
       "6                  1.0      0.6        1.00  1.00      0.00         inf   \n",
       "7                  0.8      0.6        1.00  1.25      0.12         inf   \n",
       "8                  0.6      0.6        0.75  1.25      0.12         1.6   \n",
       "9                  1.0      0.6        1.00  1.00      0.00         inf   \n",
       "10                 0.8      0.6        1.00  1.25      0.12         inf   \n",
       "11                 0.6      0.6        0.75  1.25      0.12         1.6   \n",
       "\n",
       "    zhangs_metric  \n",
       "0             0.0  \n",
       "1             0.0  \n",
       "2             0.5  \n",
       "3             1.0  \n",
       "4             0.0  \n",
       "5             0.0  \n",
       "6             0.0  \n",
       "7             0.5  \n",
       "8             1.0  \n",
       "9             0.0  \n",
       "10            0.5  \n",
       "11            1.0  "
      ]
     },
     "execution_count": 23,
     "metadata": {},
     "output_type": "execute_result"
    }
   ],
   "source": [
    "from mlxtend.frequent_patterns import association_rules\n",
    "\n",
    "association_rules(frequent_itemsets, metric='confidence', min_threshold=0.7)"
   ]
  },
  {
   "cell_type": "markdown",
   "metadata": {},
   "source": [
    "If you are interested in rules according to a different metric of interest, you can simply adjust the metric and `min_threshold` arguments . E.g. if you are only interested in rules that have a `lift` of >= 1.2, you would do the following:"
   ]
  },
  {
   "cell_type": "code",
   "execution_count": 24,
   "metadata": {},
   "outputs": [
    {
     "data": {
      "text/html": [
       "<div>\n",
       "<style scoped>\n",
       "    .dataframe tbody tr th:only-of-type {\n",
       "        vertical-align: middle;\n",
       "    }\n",
       "\n",
       "    .dataframe tbody tr th {\n",
       "        vertical-align: top;\n",
       "    }\n",
       "\n",
       "    .dataframe thead th {\n",
       "        text-align: right;\n",
       "    }\n",
       "</style>\n",
       "<table border=\"1\" class=\"dataframe\">\n",
       "  <thead>\n",
       "    <tr style=\"text-align: right;\">\n",
       "      <th></th>\n",
       "      <th>antecedents</th>\n",
       "      <th>consequents</th>\n",
       "      <th>antecedent support</th>\n",
       "      <th>consequent support</th>\n",
       "      <th>support</th>\n",
       "      <th>confidence</th>\n",
       "      <th>lift</th>\n",
       "      <th>leverage</th>\n",
       "      <th>conviction</th>\n",
       "      <th>zhangs_metric</th>\n",
       "    </tr>\n",
       "  </thead>\n",
       "  <tbody>\n",
       "    <tr>\n",
       "      <th>0</th>\n",
       "      <td>(Onion)</td>\n",
       "      <td>(Eggs)</td>\n",
       "      <td>0.6</td>\n",
       "      <td>0.8</td>\n",
       "      <td>0.6</td>\n",
       "      <td>1.00</td>\n",
       "      <td>1.25</td>\n",
       "      <td>0.12</td>\n",
       "      <td>inf</td>\n",
       "      <td>0.5</td>\n",
       "    </tr>\n",
       "    <tr>\n",
       "      <th>1</th>\n",
       "      <td>(Eggs)</td>\n",
       "      <td>(Onion)</td>\n",
       "      <td>0.8</td>\n",
       "      <td>0.6</td>\n",
       "      <td>0.6</td>\n",
       "      <td>0.75</td>\n",
       "      <td>1.25</td>\n",
       "      <td>0.12</td>\n",
       "      <td>1.6</td>\n",
       "      <td>1.0</td>\n",
       "    </tr>\n",
       "    <tr>\n",
       "      <th>2</th>\n",
       "      <td>(Kidney Beans, Onion)</td>\n",
       "      <td>(Eggs)</td>\n",
       "      <td>0.6</td>\n",
       "      <td>0.8</td>\n",
       "      <td>0.6</td>\n",
       "      <td>1.00</td>\n",
       "      <td>1.25</td>\n",
       "      <td>0.12</td>\n",
       "      <td>inf</td>\n",
       "      <td>0.5</td>\n",
       "    </tr>\n",
       "    <tr>\n",
       "      <th>3</th>\n",
       "      <td>(Kidney Beans, Eggs)</td>\n",
       "      <td>(Onion)</td>\n",
       "      <td>0.8</td>\n",
       "      <td>0.6</td>\n",
       "      <td>0.6</td>\n",
       "      <td>0.75</td>\n",
       "      <td>1.25</td>\n",
       "      <td>0.12</td>\n",
       "      <td>1.6</td>\n",
       "      <td>1.0</td>\n",
       "    </tr>\n",
       "    <tr>\n",
       "      <th>4</th>\n",
       "      <td>(Onion)</td>\n",
       "      <td>(Kidney Beans, Eggs)</td>\n",
       "      <td>0.6</td>\n",
       "      <td>0.8</td>\n",
       "      <td>0.6</td>\n",
       "      <td>1.00</td>\n",
       "      <td>1.25</td>\n",
       "      <td>0.12</td>\n",
       "      <td>inf</td>\n",
       "      <td>0.5</td>\n",
       "    </tr>\n",
       "    <tr>\n",
       "      <th>5</th>\n",
       "      <td>(Eggs)</td>\n",
       "      <td>(Kidney Beans, Onion)</td>\n",
       "      <td>0.8</td>\n",
       "      <td>0.6</td>\n",
       "      <td>0.6</td>\n",
       "      <td>0.75</td>\n",
       "      <td>1.25</td>\n",
       "      <td>0.12</td>\n",
       "      <td>1.6</td>\n",
       "      <td>1.0</td>\n",
       "    </tr>\n",
       "  </tbody>\n",
       "</table>\n",
       "</div>"
      ],
      "text/plain": [
       "             antecedents            consequents  antecedent support  \\\n",
       "0                (Onion)                 (Eggs)                 0.6   \n",
       "1                 (Eggs)                (Onion)                 0.8   \n",
       "2  (Kidney Beans, Onion)                 (Eggs)                 0.6   \n",
       "3   (Kidney Beans, Eggs)                (Onion)                 0.8   \n",
       "4                (Onion)   (Kidney Beans, Eggs)                 0.6   \n",
       "5                 (Eggs)  (Kidney Beans, Onion)                 0.8   \n",
       "\n",
       "   consequent support  support  confidence  lift  leverage  conviction  \\\n",
       "0                 0.8      0.6        1.00  1.25      0.12         inf   \n",
       "1                 0.6      0.6        0.75  1.25      0.12         1.6   \n",
       "2                 0.8      0.6        1.00  1.25      0.12         inf   \n",
       "3                 0.6      0.6        0.75  1.25      0.12         1.6   \n",
       "4                 0.8      0.6        1.00  1.25      0.12         inf   \n",
       "5                 0.6      0.6        0.75  1.25      0.12         1.6   \n",
       "\n",
       "   zhangs_metric  \n",
       "0            0.5  \n",
       "1            1.0  \n",
       "2            0.5  \n",
       "3            1.0  \n",
       "4            0.5  \n",
       "5            1.0  "
      ]
     },
     "execution_count": 24,
     "metadata": {},
     "output_type": "execute_result"
    }
   ],
   "source": [
    "rules = association_rules(frequent_itemsets, metric='lift', min_threshold=1.2)\n",
    "\n",
    "rules"
   ]
  },
  {
   "cell_type": "markdown",
   "metadata": {},
   "source": [
    "Pandas DataFrames make it easy to filter the results further. Let's say we are ony interested in rules that satisfy the following criteria:\n",
    "\n",
    "1. at least 2 antecedents\n",
    "2. a confidence > 0.75\n",
    "3. a lift score > 1.2\n",
    "\n",
    "We could compute the antecedent length as follows:"
   ]
  },
  {
   "cell_type": "code",
   "execution_count": 25,
   "metadata": {},
   "outputs": [
    {
     "data": {
      "text/html": [
       "<div>\n",
       "<style scoped>\n",
       "    .dataframe tbody tr th:only-of-type {\n",
       "        vertical-align: middle;\n",
       "    }\n",
       "\n",
       "    .dataframe tbody tr th {\n",
       "        vertical-align: top;\n",
       "    }\n",
       "\n",
       "    .dataframe thead th {\n",
       "        text-align: right;\n",
       "    }\n",
       "</style>\n",
       "<table border=\"1\" class=\"dataframe\">\n",
       "  <thead>\n",
       "    <tr style=\"text-align: right;\">\n",
       "      <th></th>\n",
       "      <th>antecedents</th>\n",
       "      <th>consequents</th>\n",
       "      <th>antecedent support</th>\n",
       "      <th>consequent support</th>\n",
       "      <th>support</th>\n",
       "      <th>confidence</th>\n",
       "      <th>lift</th>\n",
       "      <th>leverage</th>\n",
       "      <th>conviction</th>\n",
       "      <th>zhangs_metric</th>\n",
       "      <th>antecedent_len</th>\n",
       "    </tr>\n",
       "  </thead>\n",
       "  <tbody>\n",
       "    <tr>\n",
       "      <th>0</th>\n",
       "      <td>(Onion)</td>\n",
       "      <td>(Eggs)</td>\n",
       "      <td>0.6</td>\n",
       "      <td>0.8</td>\n",
       "      <td>0.6</td>\n",
       "      <td>1.00</td>\n",
       "      <td>1.25</td>\n",
       "      <td>0.12</td>\n",
       "      <td>inf</td>\n",
       "      <td>0.5</td>\n",
       "      <td>1</td>\n",
       "    </tr>\n",
       "    <tr>\n",
       "      <th>1</th>\n",
       "      <td>(Eggs)</td>\n",
       "      <td>(Onion)</td>\n",
       "      <td>0.8</td>\n",
       "      <td>0.6</td>\n",
       "      <td>0.6</td>\n",
       "      <td>0.75</td>\n",
       "      <td>1.25</td>\n",
       "      <td>0.12</td>\n",
       "      <td>1.6</td>\n",
       "      <td>1.0</td>\n",
       "      <td>1</td>\n",
       "    </tr>\n",
       "    <tr>\n",
       "      <th>2</th>\n",
       "      <td>(Kidney Beans, Onion)</td>\n",
       "      <td>(Eggs)</td>\n",
       "      <td>0.6</td>\n",
       "      <td>0.8</td>\n",
       "      <td>0.6</td>\n",
       "      <td>1.00</td>\n",
       "      <td>1.25</td>\n",
       "      <td>0.12</td>\n",
       "      <td>inf</td>\n",
       "      <td>0.5</td>\n",
       "      <td>2</td>\n",
       "    </tr>\n",
       "    <tr>\n",
       "      <th>3</th>\n",
       "      <td>(Kidney Beans, Eggs)</td>\n",
       "      <td>(Onion)</td>\n",
       "      <td>0.8</td>\n",
       "      <td>0.6</td>\n",
       "      <td>0.6</td>\n",
       "      <td>0.75</td>\n",
       "      <td>1.25</td>\n",
       "      <td>0.12</td>\n",
       "      <td>1.6</td>\n",
       "      <td>1.0</td>\n",
       "      <td>2</td>\n",
       "    </tr>\n",
       "    <tr>\n",
       "      <th>4</th>\n",
       "      <td>(Onion)</td>\n",
       "      <td>(Kidney Beans, Eggs)</td>\n",
       "      <td>0.6</td>\n",
       "      <td>0.8</td>\n",
       "      <td>0.6</td>\n",
       "      <td>1.00</td>\n",
       "      <td>1.25</td>\n",
       "      <td>0.12</td>\n",
       "      <td>inf</td>\n",
       "      <td>0.5</td>\n",
       "      <td>1</td>\n",
       "    </tr>\n",
       "    <tr>\n",
       "      <th>5</th>\n",
       "      <td>(Eggs)</td>\n",
       "      <td>(Kidney Beans, Onion)</td>\n",
       "      <td>0.8</td>\n",
       "      <td>0.6</td>\n",
       "      <td>0.6</td>\n",
       "      <td>0.75</td>\n",
       "      <td>1.25</td>\n",
       "      <td>0.12</td>\n",
       "      <td>1.6</td>\n",
       "      <td>1.0</td>\n",
       "      <td>1</td>\n",
       "    </tr>\n",
       "  </tbody>\n",
       "</table>\n",
       "</div>"
      ],
      "text/plain": [
       "             antecedents            consequents  antecedent support  \\\n",
       "0                (Onion)                 (Eggs)                 0.6   \n",
       "1                 (Eggs)                (Onion)                 0.8   \n",
       "2  (Kidney Beans, Onion)                 (Eggs)                 0.6   \n",
       "3   (Kidney Beans, Eggs)                (Onion)                 0.8   \n",
       "4                (Onion)   (Kidney Beans, Eggs)                 0.6   \n",
       "5                 (Eggs)  (Kidney Beans, Onion)                 0.8   \n",
       "\n",
       "   consequent support  support  confidence  lift  leverage  conviction  \\\n",
       "0                 0.8      0.6        1.00  1.25      0.12         inf   \n",
       "1                 0.6      0.6        0.75  1.25      0.12         1.6   \n",
       "2                 0.8      0.6        1.00  1.25      0.12         inf   \n",
       "3                 0.6      0.6        0.75  1.25      0.12         1.6   \n",
       "4                 0.8      0.6        1.00  1.25      0.12         inf   \n",
       "5                 0.6      0.6        0.75  1.25      0.12         1.6   \n",
       "\n",
       "   zhangs_metric  antecedent_len  \n",
       "0            0.5               1  \n",
       "1            1.0               1  \n",
       "2            0.5               2  \n",
       "3            1.0               2  \n",
       "4            0.5               1  \n",
       "5            1.0               1  "
      ]
     },
     "execution_count": 25,
     "metadata": {},
     "output_type": "execute_result"
    }
   ],
   "source": [
    "rules['antecedent_len'] = rules['antecedents'].apply(lambda x: len(x))\n",
    "\n",
    "rules"
   ]
  },
  {
   "cell_type": "markdown",
   "metadata": {},
   "source": [
    "Then, we can use pandas' selection syntax as shown below:"
   ]
  },
  {
   "cell_type": "code",
   "execution_count": 26,
   "metadata": {},
   "outputs": [
    {
     "data": {
      "text/html": [
       "<div>\n",
       "<style scoped>\n",
       "    .dataframe tbody tr th:only-of-type {\n",
       "        vertical-align: middle;\n",
       "    }\n",
       "\n",
       "    .dataframe tbody tr th {\n",
       "        vertical-align: top;\n",
       "    }\n",
       "\n",
       "    .dataframe thead th {\n",
       "        text-align: right;\n",
       "    }\n",
       "</style>\n",
       "<table border=\"1\" class=\"dataframe\">\n",
       "  <thead>\n",
       "    <tr style=\"text-align: right;\">\n",
       "      <th></th>\n",
       "      <th>antecedents</th>\n",
       "      <th>consequents</th>\n",
       "      <th>antecedent support</th>\n",
       "      <th>consequent support</th>\n",
       "      <th>support</th>\n",
       "      <th>confidence</th>\n",
       "      <th>lift</th>\n",
       "      <th>leverage</th>\n",
       "      <th>conviction</th>\n",
       "      <th>zhangs_metric</th>\n",
       "      <th>antecedent_len</th>\n",
       "    </tr>\n",
       "  </thead>\n",
       "  <tbody>\n",
       "    <tr>\n",
       "      <th>2</th>\n",
       "      <td>(Kidney Beans, Onion)</td>\n",
       "      <td>(Eggs)</td>\n",
       "      <td>0.6</td>\n",
       "      <td>0.8</td>\n",
       "      <td>0.6</td>\n",
       "      <td>1.0</td>\n",
       "      <td>1.25</td>\n",
       "      <td>0.12</td>\n",
       "      <td>inf</td>\n",
       "      <td>0.5</td>\n",
       "      <td>2</td>\n",
       "    </tr>\n",
       "  </tbody>\n",
       "</table>\n",
       "</div>"
      ],
      "text/plain": [
       "             antecedents consequents  antecedent support  consequent support  \\\n",
       "2  (Kidney Beans, Onion)      (Eggs)                 0.6                 0.8   \n",
       "\n",
       "   support  confidence  lift  leverage  conviction  zhangs_metric  \\\n",
       "2      0.6         1.0  1.25      0.12         inf            0.5   \n",
       "\n",
       "   antecedent_len  \n",
       "2               2  "
      ]
     },
     "execution_count": 26,
     "metadata": {},
     "output_type": "execute_result"
    }
   ],
   "source": [
    "rules[ (rules['antecedent_len'] >= 2) &\n",
    "       (rules['confidence'] > 0.75) &\n",
    "       (rules['lift'] > 1.2) ]"
   ]
  }
 ],
 "metadata": {
  "kernelspec": {
   "display_name": "Python 3 (ipykernel)",
   "language": "python",
   "name": "python3"
  },
  "language_info": {
   "codemirror_mode": {
    "name": "ipython",
    "version": 3
   },
   "file_extension": ".py",
   "mimetype": "text/x-python",
   "name": "python",
   "nbconvert_exporter": "python",
   "pygments_lexer": "ipython3",
   "version": "3.10.12"
  }
 },
 "nbformat": 4,
 "nbformat_minor": 4
}
