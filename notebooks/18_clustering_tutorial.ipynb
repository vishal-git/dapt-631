{
 "cells": [
  {
   "cell_type": "markdown",
   "id": "b18685ea-19c4-4663-9c4b-af3c980ca6e4",
   "metadata": {},
   "source": [
    "This notebook shows how we can perform clustering on the Wine Quality dataset."
   ]
  },
  {
   "cell_type": "code",
   "execution_count": null,
   "id": "5cdbb227-af3f-4179-80fa-ea10e4c7f993",
   "metadata": {},
   "outputs": [],
   "source": [
    "import pandas as pd\n",
    "from sklearn.preprocessing import StandardScaler\n",
    "from sklearn.decomposition import PCA\n",
    "import numpy as np\n",
    "from sklearn import cluster\n",
    "\n",
    "git_url = 'https://raw.githubusercontent.com/vishal-git/dapt-631/main/data'"
   ]
  },
  {
   "cell_type": "code",
   "execution_count": null,
   "id": "fa788bd4-27c0-4213-a5ad-ac9f823b211e",
   "metadata": {},
   "outputs": [],
   "source": [
    "df = pd.read_csv(f'{git_url}/winequality.csv', index_col=0)\n",
    "df.shape"
   ]
  },
  {
   "cell_type": "markdown",
   "id": "93f0b26d-55f6-418e-8f99-5accbe1c0aed",
   "metadata": {},
   "source": [
    "We will use all features except for `wine type` to perform clustering."
   ]
  },
  {
   "cell_type": "code",
   "execution_count": null,
   "id": "116c6c10-68ff-4205-ba54-81062ea57ec5",
   "metadata": {},
   "outputs": [],
   "source": [
    "clus_cols = \n",
    "clus_cols"
   ]
  },
  {
   "cell_type": "markdown",
   "id": "fbe4b356-dc25-4618-ac1c-8caf076a6c44",
   "metadata": {},
   "source": [
    "Let's standardize the dataset first."
   ]
  },
  {
   "cell_type": "code",
   "execution_count": null,
   "id": "b479879b-b1e1-4bd3-921f-36a3af53e9ed",
   "metadata": {},
   "outputs": [],
   "source": [
    "X = "
   ]
  },
  {
   "cell_type": "markdown",
   "id": "23bd50b4-7ffa-42f9-aac1-b9ed812c8917",
   "metadata": {},
   "source": [
    "Reduce dimensionality using PCA."
   ]
  },
  {
   "cell_type": "code",
   "execution_count": null,
   "id": "4ad7b351-b65e-4c70-b4cd-191f82748d4f",
   "metadata": {},
   "outputs": [],
   "source": [
    "pca = "
   ]
  },
  {
   "cell_type": "code",
   "execution_count": null,
   "id": "0883223b-fb99-4968-bf3c-02f38a798eb5",
   "metadata": {},
   "outputs": [],
   "source": [
    "components_to_keep = \n",
    "\n",
    "pca = PCA(n_components=components_to_keep, random_state=314)"
   ]
  },
  {
   "cell_type": "code",
   "execution_count": null,
   "id": "7ffcc958-58c2-459e-bd20-1271e55e7bba",
   "metadata": {},
   "outputs": [],
   "source": [
    "X_pc = "
   ]
  },
  {
   "cell_type": "markdown",
   "id": "23a8ecad-e06c-4c92-9c7c-f506f691cc90",
   "metadata": {},
   "source": [
    "Let's find two clusters. (Since we know that there are two clusters in this dataset: red and white wine.)"
   ]
  },
  {
   "cell_type": "code",
   "execution_count": null,
   "id": "593768f2-75b4-4421-9035-0b03945878a9",
   "metadata": {},
   "outputs": [],
   "source": [
    "ward = "
   ]
  },
  {
   "cell_type": "code",
   "execution_count": null,
   "id": "b3368b9c-b542-4111-8b82-8cc2e498fd70",
   "metadata": {},
   "outputs": [],
   "source": [
    "y_pred = "
   ]
  },
  {
   "cell_type": "markdown",
   "id": "383fcb45-e85f-476c-b30f-4ecd3ceebe13",
   "metadata": {},
   "source": [
    "Check if the identified clusters align with the true clusters (red and white). "
   ]
  }
 ],
 "metadata": {
  "kernelspec": {
   "display_name": "Python 3 (ipykernel)",
   "language": "python",
   "name": "python3"
  },
  "language_info": {
   "codemirror_mode": {
    "name": "ipython",
    "version": 3
   },
   "file_extension": ".py",
   "mimetype": "text/x-python",
   "name": "python",
   "nbconvert_exporter": "python",
   "pygments_lexer": "ipython3",
   "version": "3.10.12"
  }
 },
 "nbformat": 4,
 "nbformat_minor": 5
}
