{
 "cells": [
  {
   "cell_type": "markdown",
   "metadata": {},
   "source": [
    "# DAPT 618\n",
    "## Assignment #2 (Group Assignment)\n",
    "### Due by 11-FEB-2025\n",
    "\n",
    "## *[Your Group Name]*"
   ]
  },
  {
   "cell_type": "markdown",
   "metadata": {},
   "source": [
    "This notebook includes the second homework assignment for DAPT-618. The goal is to do some basic string manipulation and creating Python functions to _decrypt_ a message (string) using the *Caesar Cipher* method discussed during the **Introduction to Data Mining** lecture."
   ]
  },
  {
   "cell_type": "markdown",
   "metadata": {},
   "source": [
    "# Caesar Cipher"
   ]
  },
  {
   "cell_type": "markdown",
   "metadata": {},
   "source": [
    "![title](http://www.maths-resources.net/enrich/codes/caesar/images/caesarwheel3.gif)\n",
    "\n",
    "The letters on the outer circle represent letters in the original text (message). The letters on the inner circle represent the (encoded) cipher text.\n",
    "\n",
    "Here, the inner circle is rotated to the left by 3 (`k`=3), so the letter 'A' in the original text would get encoded as 'D' in the encrypted text."
   ]
  },
  {
   "cell_type": "markdown",
   "metadata": {},
   "source": [
    "In the classroom exercise, we wrote a Python function to _encrypt_ a message by using a key provided as a parameter in the function. We added some conditions in the function to avoid situations where the encrypted message contains non-alphabetic character(s). The `encrypt_message()` function is shown below in its entirety:"
   ]
  },
  {
   "cell_type": "code",
   "execution_count": 1,
   "metadata": {},
   "outputs": [],
   "source": [
    "def encrypt_message(in_message, key):\n",
    "\n",
    "    # Initialize the output (encrypted) message\n",
    "    out_message = ''\n",
    "\n",
    "    for in_char in in_message:\n",
    "        \n",
    "        if in_char.isalpha():\n",
    "            \n",
    "            # if letter, encrypt it\n",
    "            num = ord(in_char) + key\n",
    "            \n",
    "            # if the encrypted char is a special char,\n",
    "            #  then subtract 26 to wrap around to the beginning of the alphabet\n",
    "            \n",
    "            if in_char.isupper() and num > ord('Z'):\n",
    "                num -= 26\n",
    "                \n",
    "            elif in_char.islower() and num > ord('z'):\n",
    "                num -= 26\n",
    "            \n",
    "            # append the encrypted letter to the output string\n",
    "            out_message += chr(num)\n",
    "            \n",
    "        else:\n",
    "            \n",
    "            # if not a letter, append to the ouput string as is\n",
    "            out_message += in_char\n",
    "\n",
    "    return out_message"
   ]
  },
  {
   "cell_type": "markdown",
   "metadata": {},
   "source": [
    "In the example below, when this function is called with `Et tu, Brute?`, and k=3, it returns `Hw wx, Euxwh?` as the encrypted message."
   ]
  },
  {
   "cell_type": "code",
   "execution_count": 4,
   "metadata": {},
   "outputs": [
    {
     "name": "stdout",
     "output_type": "stream",
     "text": [
      "Encrypted message (k=3): Hw wx, Euxwh?\n"
     ]
    }
   ],
   "source": [
    "print ('Encrypted message (k=3):', \n",
    "       encrypt_message('Et tu, Brute?', 3))"
   ]
  },
  {
   "cell_type": "markdown",
   "metadata": {},
   "source": [
    "In another example below, when this function is called with `Virginia Commonwealth University`, and k=3, it returns `Ylujlqld Frpprqzhdowk Xqlyhuvlwb` as the encrypted message."
   ]
  },
  {
   "cell_type": "code",
   "execution_count": 2,
   "metadata": {},
   "outputs": [
    {
     "name": "stdout",
     "output_type": "stream",
     "text": [
      "Encrypted message (k=3): Ylujlqld Frpprqzhdowk Xqlyhuvlwb\n"
     ]
    }
   ],
   "source": [
    "print ('Encrypted message (k=3):', \n",
    "       encrypt_message('Virginia Commonwealth University', 3))"
   ]
  },
  {
   "cell_type": "markdown",
   "metadata": {},
   "source": [
    "#### For this homework assignment, your objective is to write a similar Python function named `decrypt_message()` that _decrypts_ an encrypted message using a key. Please submit your code in a Jupyter notebook via Canvas. If you have any difficulty uploading your notebook on Canvas, you can submit it via email at patelvj2@vcu.edu."
   ]
  },
  {
   "cell_type": "code",
   "execution_count": null,
   "metadata": {},
   "outputs": [],
   "source": [
    "def decrypt_message(in_message, key):\n",
    "\n",
    "    ### WRITE YOUR CODE HERE"
   ]
  },
  {
   "cell_type": "markdown",
   "metadata": {},
   "source": [
    "To test this function, once written, decrypt the two messages shown below. The correct output (encrypted message) is shown as well."
   ]
  },
  {
   "cell_type": "code",
   "execution_count": null,
   "metadata": {},
   "outputs": [],
   "source": [
    "encrypted_message = 'Hw wx, Euxwh?'\n",
    "\n",
    "print ('Decrypted message:', decrypt_message(encrypted_message, 3))"
   ]
  },
  {
   "cell_type": "markdown",
   "metadata": {},
   "source": [
    "The code above should generate the following output: `Decrypted message: Et tu, Brute?`"
   ]
  },
  {
   "cell_type": "code",
   "execution_count": null,
   "metadata": {},
   "outputs": [],
   "source": [
    "encrypted_message = 'Ylujlqld Frpprqzhdowk Xqlyhuvlwb'\n",
    "\n",
    "print ('Decrypted message:', decrypt_message(encrypted_message, 3))"
   ]
  },
  {
   "cell_type": "markdown",
   "metadata": {},
   "source": [
    "The code abobe should generate the following output: `Decrypted message: Virginia Commonwealth University`"
   ]
  }
 ],
 "metadata": {
  "kernelspec": {
   "display_name": "Python 3 (ipykernel)",
   "language": "python",
   "name": "python3"
  },
  "language_info": {
   "codemirror_mode": {
    "name": "ipython",
    "version": 3
   },
   "file_extension": ".py",
   "mimetype": "text/x-python",
   "name": "python",
   "nbconvert_exporter": "python",
   "pygments_lexer": "ipython3",
   "version": "3.10.12"
  }
 },
 "nbformat": 4,
 "nbformat_minor": 4
}
