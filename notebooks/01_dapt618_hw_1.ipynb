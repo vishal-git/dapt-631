{
 "cells": [
  {
   "cell_type": "markdown",
   "id": "77eb30cc-8ea8-4ce6-a852-f128a4023819",
   "metadata": {},
   "source": [
    "# DAPT 618\n",
    "## Assignment #1 (Individual Assignment)\n",
    "### Due by 28-JAN-2025\n",
    "\n",
    "## *[Your Name]*"
   ]
  },
  {
   "cell_type": "markdown",
   "id": "abb2b0f0-3283-4139-b663-6c3d4810067b",
   "metadata": {},
   "source": [
    "---"
   ]
  },
  {
   "cell_type": "markdown",
   "id": "652e8361-46af-4310-9412-2ba2c419af75",
   "metadata": {},
   "source": [
    "I have borrowed some exercise questions from Think Python book. I encourage everyone to read at least the first chapter of the book, which is available online here."
   ]
  },
  {
   "cell_type": "markdown",
   "id": "a30d20cf-8eff-4903-85ce-e8164c646e65",
   "metadata": {},
   "source": [
    "Please use Jupyter Notebook to show your work and provide answers in Jupyter Notebook."
   ]
  },
  {
   "cell_type": "markdown",
   "id": "2f34d966-497f-4465-bae4-6c81eaf07b9f",
   "metadata": {},
   "source": [
    "1.\tIn a print statement, what happens if you leave out one of the parentheses, or both?"
   ]
  },
  {
   "cell_type": "code",
   "execution_count": null,
   "id": "5d4adefe-5209-4e45-a495-df59387c8d6d",
   "metadata": {},
   "outputs": [],
   "source": []
  },
  {
   "cell_type": "markdown",
   "id": "3d4b02ef-31d9-426f-96ee-b0b09bc6f6b1",
   "metadata": {},
   "source": [
    "2.\tIf you are trying to print a string, what happens if you leave out one of the quotation marks, or both?"
   ]
  },
  {
   "cell_type": "markdown",
   "id": "7cbad99b-31f8-488b-9282-97713b9f516a",
   "metadata": {},
   "source": [
    "3.\tYou can use a minus sign to make a negative number like -2. What happens if you put a plus sign before a number? What about 2++2?"
   ]
  },
  {
   "cell_type": "markdown",
   "id": "a8bd9584-764c-4a0a-931e-5438bcc83d47",
   "metadata": {},
   "source": [
    "4.\tIn math notation, leading zeros are ok, as in 09. What happens if you try this in Python? What about 011?"
   ]
  },
  {
   "cell_type": "markdown",
   "id": "9a73d355-5652-4f8f-b742-a27771befef0",
   "metadata": {},
   "source": [
    "5.\tHow many miles are there in 10 kilometers? (Hint: There are 1.61 kilometers in a mile.)"
   ]
  },
  {
   "cell_type": "markdown",
   "id": "af277c44-f509-4ab6-89d1-90299282a08e",
   "metadata": {},
   "source": [
    "6.\tIn Python, n = 42 is legal. What about 42 = n?"
   ]
  },
  {
   "cell_type": "markdown",
   "id": "377be2ca-432f-4a46-b3e0-183bda3a12c1",
   "metadata": {},
   "source": [
    "7.\tHow about x = y = 1?"
   ]
  },
  {
   "cell_type": "markdown",
   "id": "87695dbb-93c1-4681-b743-0dc761c3a50c",
   "metadata": {},
   "source": [
    "8.\tIn some languages, every statement ends with a semi-colon. What happens if you put a semi-colon at the end of a Python statement?"
   ]
  },
  {
   "cell_type": "markdown",
   "id": "b185a2b6-9c1d-4e69-ab14-2e64d79483a8",
   "metadata": {},
   "source": [
    "9.\tWhat if you put a period at the end of a statement? What about an extra space at the end of a statement?"
   ]
  },
  {
   "cell_type": "markdown",
   "id": "0677ad77-ae45-4692-8d68-34244115ca96",
   "metadata": {},
   "source": [
    "10.\tWrite a function named right_justify that takes a string named s as a parameter and prints the string with enough leading spaces so that the last letter of the string is in column 70 of the display.\n",
    "```\n",
    ">>> right_justify('monty')\n",
    "\n",
    "                                                                 Monty\n",
    "```"
   ]
  },
  {
   "cell_type": "markdown",
   "id": "9a4e9c93-2e08-4cb2-8363-d0a59dbbb5f5",
   "metadata": {},
   "source": [
    "11.\tWrite a function that draws a grid like the following:\n",
    "```\n",
    "+ - - - - + - - - - +\n",
    "|         |         |\n",
    "|         |         |\n",
    "|         |         |\n",
    "|         |         |\n",
    "+ - - - - + - - - - +\n",
    "|         |         |\n",
    "|         |         |\n",
    "|         |         |\n",
    "|         |         |\n",
    "+ - - - - + - - - - +\n",
    "```"
   ]
  }
 ],
 "metadata": {
  "kernelspec": {
   "display_name": "Python 3 (ipykernel)",
   "language": "python",
   "name": "python3"
  },
  "language_info": {
   "codemirror_mode": {
    "name": "ipython",
    "version": 3
   },
   "file_extension": ".py",
   "mimetype": "text/x-python",
   "name": "python",
   "nbconvert_exporter": "python",
   "pygments_lexer": "ipython3",
   "version": "3.10.12"
  }
 },
 "nbformat": 4,
 "nbformat_minor": 5
}
