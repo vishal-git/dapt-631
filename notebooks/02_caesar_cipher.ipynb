{
 "cells": [
  {
   "cell_type": "markdown",
   "metadata": {},
   "source": [
    "This notebook provides an introduction to some basic string manipulation and creating Python functions to encrypt a string (message) using the *Caesar Cipher* method that was discussed during the **Introduction to Data Mining** lecture."
   ]
  },
  {
   "cell_type": "markdown",
   "metadata": {},
   "source": [
    "# Caesar Cipher"
   ]
  },
  {
   "cell_type": "markdown",
   "metadata": {},
   "source": [
    "![title](http://www.maths-resources.net/enrich/codes/caesar/images/caesarwheel3.gif)\n",
    "\n",
    "The letters on the outer circle represent letters in the original text (message). The letters on the inner circle represent the (encoded) cipher text.\n",
    "\n",
    "Here, the inner circle is rotated to the left by 3 (`k`=3), so the letter 'A' in the original text would get encoded as 'D' in the encrypted text."
   ]
  },
  {
   "cell_type": "markdown",
   "metadata": {},
   "source": [
    "### The `chr()` and `ord()` Functions"
   ]
  },
  {
   "cell_type": "markdown",
   "metadata": {},
   "source": [
    "`ord(c)`: Returns an integer representing the Unicode code point of the character `c`."
   ]
  },
  {
   "cell_type": "code",
   "execution_count": 1,
   "metadata": {},
   "outputs": [
    {
     "data": {
      "text/plain": [
       "65"
      ]
     },
     "execution_count": 1,
     "metadata": {},
     "output_type": "execute_result"
    }
   ],
   "source": [
    "ord('A')"
   ]
  },
  {
   "cell_type": "markdown",
   "metadata": {},
   "source": [
    "`chr(i)`: Returns a string of one character whose ASCII code is the integer `i`."
   ]
  },
  {
   "cell_type": "code",
   "execution_count": 2,
   "metadata": {},
   "outputs": [
    {
     "data": {
      "text/plain": [
       "'A'"
      ]
     },
     "execution_count": 2,
     "metadata": {},
     "output_type": "execute_result"
    }
   ],
   "source": [
    "chr(65)"
   ]
  },
  {
   "cell_type": "code",
   "execution_count": 3,
   "metadata": {},
   "outputs": [
    {
     "data": {
      "text/plain": [
       "'D'"
      ]
     },
     "execution_count": 3,
     "metadata": {},
     "output_type": "execute_result"
    }
   ],
   "source": [
    "k = 3\n",
    "\n",
    "chr(65 + k)"
   ]
  },
  {
   "cell_type": "code",
   "execution_count": 4,
   "metadata": {},
   "outputs": [
    {
     "data": {
      "text/plain": [
       "68"
      ]
     },
     "execution_count": 4,
     "metadata": {},
     "output_type": "execute_result"
    }
   ],
   "source": [
    "ord(chr(65 + k))"
   ]
  },
  {
   "cell_type": "markdown",
   "metadata": {},
   "source": [
    "The `ord()` and `chr()` functions are the opposite of each other."
   ]
  },
  {
   "cell_type": "markdown",
   "metadata": {},
   "source": [
    "### Caesar cipher in Python"
   ]
  },
  {
   "cell_type": "markdown",
   "metadata": {},
   "source": [
    "1. Define a message text, and a key."
   ]
  },
  {
   "cell_type": "code",
   "execution_count": 5,
   "metadata": {},
   "outputs": [],
   "source": [
    "message = 'Et tu, Brute?'\n",
    "\n",
    "k = 3"
   ]
  },
  {
   "cell_type": "markdown",
   "metadata": {},
   "source": [
    "Print the message and key."
   ]
  },
  {
   "cell_type": "code",
   "execution_count": 6,
   "metadata": {},
   "outputs": [
    {
     "name": "stdout",
     "output_type": "stream",
     "text": [
      "The message is: Et tu, Brute?\n",
      "The key is: 3\n"
     ]
    }
   ],
   "source": [
    "print ('The message is:', message)\n",
    "\n",
    "print ('The key is:', k)"
   ]
  },
  {
   "cell_type": "markdown",
   "metadata": {},
   "source": [
    "We will use this key to encrypt the message."
   ]
  },
  {
   "cell_type": "markdown",
   "metadata": {},
   "source": [
    "2. Encrypt the message, one character at a time"
   ]
  },
  {
   "cell_type": "code",
   "execution_count": 7,
   "metadata": {},
   "outputs": [
    {
     "name": "stdout",
     "output_type": "stream",
     "text": [
      "Input character: E\n",
      "Encrypted character: H\n",
      "Input character: t\n",
      "Encrypted character: w\n",
      "Input character:  \n",
      "Encrypted character: #\n",
      "Input character: t\n",
      "Encrypted character: w\n",
      "Input character: u\n",
      "Encrypted character: x\n",
      "Input character: ,\n",
      "Encrypted character: /\n",
      "Input character:  \n",
      "Encrypted character: #\n",
      "Input character: B\n",
      "Encrypted character: E\n",
      "Input character: r\n",
      "Encrypted character: u\n",
      "Input character: u\n",
      "Encrypted character: x\n",
      "Input character: t\n",
      "Encrypted character: w\n",
      "Input character: e\n",
      "Encrypted character: h\n",
      "Input character: ?\n",
      "Encrypted character: B\n"
     ]
    }
   ],
   "source": [
    "for input_char in message:\n",
    "    \n",
    "    # print this letter\n",
    "    print ('Input character:', input_char)\n",
    "    \n",
    "    # retrieve the ASCII code for this character\n",
    "    num = ord(input_char)\n",
    "    \n",
    "    # add the key to that code to encrupt this character\n",
    "    num = num + k\n",
    "    \n",
    "    # retrieve the character for that ASCII code\n",
    "    encrypted_char = chr(num)\n",
    "\n",
    "    # print the encrypted letter\n",
    "    print ('Encrypted character:', encrypted_char)"
   ]
  },
  {
   "cell_type": "markdown",
   "metadata": {},
   "source": [
    "Let's encrypt only letters in the alphabet, and ignore special character like exclamation points and spaces. We can use `isalpha()` function for this purpose."
   ]
  },
  {
   "cell_type": "code",
   "execution_count": 8,
   "metadata": {},
   "outputs": [
    {
     "data": {
      "text/plain": [
       "True"
      ]
     },
     "execution_count": 8,
     "metadata": {},
     "output_type": "execute_result"
    }
   ],
   "source": [
    "mychar = 'V'\n",
    "\n",
    "mychar.isalpha()"
   ]
  },
  {
   "cell_type": "code",
   "execution_count": 9,
   "metadata": {},
   "outputs": [
    {
     "data": {
      "text/plain": [
       "False"
      ]
     },
     "execution_count": 9,
     "metadata": {},
     "output_type": "execute_result"
    }
   ],
   "source": [
    "mychar = '?'\n",
    "\n",
    "mychar.isalpha()"
   ]
  },
  {
   "cell_type": "markdown",
   "metadata": {},
   "source": [
    "3. Encrypt the message, one character at a time. Ignore special characters."
   ]
  },
  {
   "cell_type": "code",
   "execution_count": 10,
   "metadata": {},
   "outputs": [
    {
     "name": "stdout",
     "output_type": "stream",
     "text": [
      "E --> H\n",
      "t --> w\n",
      "  -->  \n",
      "t --> w\n",
      "u --> x\n",
      ", --> ,\n",
      "  -->  \n",
      "B --> E\n",
      "r --> u\n",
      "u --> x\n",
      "t --> w\n",
      "e --> h\n",
      "? --> ?\n"
     ]
    }
   ],
   "source": [
    "for input_char in message:\n",
    "    \n",
    "    # check if this character is a letter\n",
    "    if input_char.isalpha():\n",
    "        \n",
    "        # retrieve the ASCII code for this letter \n",
    "        num = ord(input_char)\n",
    "        \n",
    "        # add the key to that code to encrupt this letter\n",
    "        num += k\n",
    "        \n",
    "        # retrieve the character for that ASCII code\n",
    "        encrypted_char = chr(num)\n",
    "    \n",
    "    else:\n",
    "        \n",
    "        # if special character, keep it as it is\n",
    "        encrypted_char = input_char\n",
    "    \n",
    "    print (input_char, '-->', encrypted_char)"
   ]
  },
  {
   "cell_type": "markdown",
   "metadata": {},
   "source": [
    "Notice how `num = num + k` can also be written as `num += k`."
   ]
  },
  {
   "cell_type": "markdown",
   "metadata": {},
   "source": [
    "4. Save the encypted message in a single string."
   ]
  },
  {
   "cell_type": "code",
   "execution_count": 11,
   "metadata": {},
   "outputs": [],
   "source": [
    "# initialize the output (encrypted) message as an empty string\n",
    "encrypted_message = ''\n",
    "\n",
    "for input_char in message:\n",
    "    \n",
    "    # check if this character is a letter\n",
    "    if input_char.isalpha():\n",
    "        \n",
    "        # retrieve the ASCII code for this letter         \n",
    "        num = ord(input_char)\n",
    "        \n",
    "        # add the key to that code to encrupt this letter\n",
    "        num += k\n",
    "        \n",
    "        # append the encrypted char to the encrypted message string\n",
    "        encrypted_message += chr(num)\n",
    "        \n",
    "    else:\n",
    "        \n",
    "        # if special character, append the original character\n",
    "        encrypted_message += input_char"
   ]
  },
  {
   "cell_type": "code",
   "execution_count": 12,
   "metadata": {},
   "outputs": [
    {
     "name": "stdout",
     "output_type": "stream",
     "text": [
      "Input message: Et tu, Brute?\n",
      "Encrypted message: Hw wx, Euxwh?\n"
     ]
    }
   ],
   "source": [
    "print ('Input message:', message)\n",
    "\n",
    "print ('Encrypted message:', encrypted_message)"
   ]
  },
  {
   "cell_type": "markdown",
   "metadata": {},
   "source": [
    "Let's try a different key."
   ]
  },
  {
   "cell_type": "code",
   "execution_count": 13,
   "metadata": {},
   "outputs": [
    {
     "name": "stdout",
     "output_type": "stream",
     "text": [
      "Input message: Et tu, Brute?\n",
      "Encrypted message: Jy yz, Gwzyj?\n"
     ]
    }
   ],
   "source": [
    "# define a new key\n",
    "k = 5\n",
    "\n",
    "# initialize the output (encrypted) message as an empty string\n",
    "encrypted_message = ''\n",
    "\n",
    "for input_char in message:\n",
    "    \n",
    "    # check if this character is a letter\n",
    "    if input_char.isalpha():\n",
    "        \n",
    "        # retrieve the ASCII code for this letter         \n",
    "        num = ord(input_char)\n",
    "        \n",
    "        # add the key to that code to encrupt this letter\n",
    "        num += k\n",
    "        \n",
    "        # append the encrypted char to the encrypted message string\n",
    "        encrypted_message += chr(num)\n",
    "        \n",
    "    else:\n",
    "        \n",
    "        # if special character, append the original character\n",
    "        encrypted_message += input_char\n",
    "\n",
    "print ('Input message:', message)\n",
    "print ('Encrypted message:', encrypted_message)"
   ]
  },
  {
   "cell_type": "markdown",
   "metadata": {},
   "source": [
    "If you want to try different messages and different keys, it's useful to create a **function**."
   ]
  },
  {
   "cell_type": "markdown",
   "metadata": {},
   "source": [
    "4. Let's create a function!"
   ]
  },
  {
   "cell_type": "code",
   "execution_count": 14,
   "metadata": {},
   "outputs": [],
   "source": [
    "def encrypt_message(in_message):\n",
    "\n",
    "    # initialize the output (encrypted) message\n",
    "    out_message = ''\n",
    "\n",
    "    for in_char in in_message:\n",
    "        \n",
    "        if in_char.isalpha():\n",
    "            \n",
    "            # if letter, encrypt it\n",
    "            out_message += chr(ord(in_char) + k)\n",
    "        \n",
    "        else:\n",
    "            \n",
    "            # otherwise, keep it as is\n",
    "            out_message += in_char\n",
    "\n",
    "    return out_message"
   ]
  },
  {
   "cell_type": "code",
   "execution_count": 15,
   "metadata": {},
   "outputs": [
    {
     "data": {
      "text/plain": [
       "function"
      ]
     },
     "execution_count": 15,
     "metadata": {},
     "output_type": "execute_result"
    }
   ],
   "source": [
    "type(encrypt_message)"
   ]
  },
  {
   "cell_type": "markdown",
   "metadata": {},
   "source": [
    "`encrypt_message` is a user defined function (UDF).\n",
    "\n",
    "Python also has a lot of built-in functions, such as `print()`."
   ]
  },
  {
   "cell_type": "code",
   "execution_count": 16,
   "metadata": {},
   "outputs": [
    {
     "data": {
      "text/plain": [
       "builtin_function_or_method"
      ]
     },
     "execution_count": 16,
     "metadata": {},
     "output_type": "execute_result"
    }
   ],
   "source": [
    "type(print)"
   ]
  },
  {
   "cell_type": "code",
   "execution_count": 17,
   "metadata": {},
   "outputs": [],
   "source": [
    "# call the function to encrypt the message\n",
    "\n",
    "encrypted_msg = encrypt_message(message)"
   ]
  },
  {
   "cell_type": "code",
   "execution_count": 18,
   "metadata": {},
   "outputs": [
    {
     "name": "stdout",
     "output_type": "stream",
     "text": [
      "Original message: Et tu, Brute?\n",
      "Encrypted message: Jy yz, Gwzyj?\n"
     ]
    }
   ],
   "source": [
    "# print the encrypted message\n",
    "\n",
    "print ('Original message:', message)\n",
    "\n",
    "print ('Encrypted message:', encrypted_msg)"
   ]
  },
  {
   "cell_type": "markdown",
   "metadata": {},
   "source": [
    "**EXERCISE:** Modify the function to include</i> `k` <i>as one of its parameters."
   ]
  },
  {
   "cell_type": "code",
   "execution_count": 19,
   "metadata": {},
   "outputs": [
    {
     "name": "stdout",
     "output_type": "stream",
     "text": [
      "Original message: Et tu, Brute?\n",
      "Encrypted message (k=3): Hw wx, Euxwh?\n",
      "Encrypted message (k=7): L{ {|, Iy|{l?\n",
      "Encrypted message (k=0): Et tu, Brute?\n"
     ]
    }
   ],
   "source": [
    "def encrypt_message(in_message, key):\n",
    "\n",
    "    # initialize the output (encrypted) message\n",
    "    out_message = ''\n",
    "\n",
    "    for in_char in in_message:\n",
    "        \n",
    "        if in_char.isalpha():\n",
    "            \n",
    "            # if letter, encrypt it\n",
    "            out_message += chr(ord(in_char) + key)\n",
    "        \n",
    "        else:\n",
    "            \n",
    "            # otherwise, keep it as is\n",
    "            out_message += in_char\n",
    "\n",
    "    return out_message\n",
    "\n",
    "print ('Original message:', message)\n",
    "\n",
    "print ('Encrypted message (k=3):', encrypt_message(message, 3))\n",
    "\n",
    "print ('Encrypted message (k=7):', encrypt_message(message, 7))\n",
    "\n",
    "print ('Encrypted message (k=0):', encrypt_message(message, 0))"
   ]
  },
  {
   "cell_type": "markdown",
   "metadata": {},
   "source": [
    "_Encrypt a new message using this function._"
   ]
  },
  {
   "cell_type": "code",
   "execution_count": 20,
   "metadata": {},
   "outputs": [
    {
     "name": "stdout",
     "output_type": "stream",
     "text": [
      "Encrypted message (k=0): Ylujlqld Frpprqzhdowk Xqlyhuvlw|\n"
     ]
    }
   ],
   "source": [
    "print ('Encrypted message (k=3):', \n",
    "       encrypt_message('Virginia Commonwealth University', 3))"
   ]
  },
  {
   "cell_type": "markdown",
   "metadata": {},
   "source": [
    "Notice that for `k=3`, letter 'y' would get encrypted into the the pipe symbol '|'.\n",
    "\n",
    "_See the [ASCII table](https://www.cs.cmu.edu/~pattis/15-1XX/common/handouts/ascii.html) for reference._"
   ]
  },
  {
   "cell_type": "markdown",
   "metadata": {},
   "source": [
    "Let's modify the function to avoid situations where the encrypted message contains non-alphabetic character(s). In other words, force the encryption to \"wrap around\" to the beginning of the alphabet if it encounters non-alphabetic characters."
   ]
  },
  {
   "cell_type": "markdown",
   "metadata": {},
   "source": [
    "5. Encrypt message using a function. Avoid special characters in the encrypted message."
   ]
  },
  {
   "cell_type": "code",
   "execution_count": 21,
   "metadata": {},
   "outputs": [],
   "source": [
    "def encrypt_message(in_message, key):\n",
    "\n",
    "    # Initialize the output (encrypted) message\n",
    "    out_message = ''\n",
    "\n",
    "    for in_char in in_message:\n",
    "        \n",
    "        if in_char.isalpha():\n",
    "            \n",
    "            # if letter, encrypt it\n",
    "            num = ord(in_char) + key\n",
    "            \n",
    "            # if the encrypted char is a special char,\n",
    "            #  then subtract 26 to wrap around to the beginning of the alphabet\n",
    "            \n",
    "            if in_char.isupper() and num > ord('Z'):\n",
    "                num -= 26\n",
    "                \n",
    "            elif in_char.islower() and num > ord('z'):\n",
    "                num -= 26\n",
    "            \n",
    "            # append the encrypted letter to the output string\n",
    "            out_message += chr(num)\n",
    "            \n",
    "        else:\n",
    "            \n",
    "            # if not a letter, append to the ouput string as is\n",
    "            out_message += in_char\n",
    "\n",
    "    return out_message"
   ]
  },
  {
   "cell_type": "code",
   "execution_count": 25,
   "metadata": {},
   "outputs": [
    {
     "name": "stdout",
     "output_type": "stream",
     "text": [
      "Encrypted message (k=3): Ylujlqld Frpprqzhdowk Xqlyhuvlwb\n"
     ]
    }
   ],
   "source": [
    "print ('Encrypted message (k=3):', \n",
    "       encrypt_message('Virginia Commonwealth University', 3))"
   ]
  },
  {
   "cell_type": "markdown",
   "metadata": {},
   "source": [
    "Now, the letter 'y' gets encrypted as 'b' instead of the pipe symble '|'."
   ]
  },
  {
   "cell_type": "code",
   "execution_count": 22,
   "metadata": {},
   "outputs": [
    {
     "name": "stdout",
     "output_type": "stream",
     "text": [
      "Original message: Et tu, Brute?\n",
      "Encrypted message (k=3): Hw wx, Euxwh?\n",
      "Encrypted message (k=3): La ab, Iybal?\n"
     ]
    }
   ],
   "source": [
    "print ('Original message:', message)\n",
    "\n",
    "print ('Encrypted message (k=3):', encrypt_message(message, 3))\n",
    "\n",
    "print ('Encrypted message (k=3):', encrypt_message(message, 7))"
   ]
  },
  {
   "cell_type": "markdown",
   "metadata": {},
   "source": [
    "In your first homework assignment, you will be asked to write a function to _decode_ an encrypted message using a key."
   ]
  }
 ],
 "metadata": {
  "kernelspec": {
   "display_name": "Python 3 (ipykernel)",
   "language": "python",
   "name": "python3"
  },
  "language_info": {
   "codemirror_mode": {
    "name": "ipython",
    "version": 3
   },
   "file_extension": ".py",
   "mimetype": "text/x-python",
   "name": "python",
   "nbconvert_exporter": "python",
   "pygments_lexer": "ipython3",
   "version": "3.10.12"
  }
 },
 "nbformat": 4,
 "nbformat_minor": 4
}
