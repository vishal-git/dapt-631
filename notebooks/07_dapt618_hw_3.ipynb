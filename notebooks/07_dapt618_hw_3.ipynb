{
 "cells": [
  {
   "cell_type": "markdown",
   "metadata": {},
   "source": [
    "# DAPT-618 Python Assignment 3"
   ]
  },
  {
   "cell_type": "markdown",
   "metadata": {},
   "source": [
    "> Please write your group name here."
   ]
  },
  {
   "cell_type": "markdown",
   "metadata": {},
   "source": [
    "_Due by 25-FEB-2025_"
   ]
  },
  {
   "cell_type": "markdown",
   "metadata": {},
   "source": [
    "The data for this homework assignment is sourced from the UCI Machine Learning Repository. This [link](https://archive.ics.uci.edu/ml/datasets/Wine+Quality) includes a brief description of all columns (features) available this dataset. You can download this dataset, called `winequality.csv`, from Canvas under the `Data` folder to your local computer and then read that file into a pandas dataframe. \n",
    "\n",
    "Answer the following questions based on this dataset. Submit a Jupyter Notebook that contains all your code that you used to answer these questions. Please post only one submission per group on Canvas. The Jupyter Notebook must be fully executable with no/minimal changes (such as the location of the input file)."
   ]
  },
  {
   "cell_type": "markdown",
   "metadata": {},
   "source": [
    "1. Plot histograms for all variables in this data set. Add a vertical line to show the average value of each variable. Add a chart title for each chart. [5 points]"
   ]
  },
  {
   "cell_type": "markdown",
   "metadata": {},
   "source": [
    "2. Identify two features that are most correlated with each other. Visualize their relationship using an appropriate chart type. [3 points]"
   ]
  },
  {
   "cell_type": "markdown",
   "metadata": {},
   "source": [
    "3. Identify the feature that is most correlated with wine quality and plot their relationship using an appropriate chart type. Use different colors to differentiate between red and white wines. [4 points]"
   ]
  },
  {
   "cell_type": "markdown",
   "metadata": {},
   "source": [
    "4. Bin Fixed Acidity into low, medium, and high categories. Show the distribution of Wine Quality for each acidity category. [3 points]"
   ]
  },
  {
   "cell_type": "markdown",
   "metadata": {},
   "source": [
    "5. Create a dataframe (see example below) that contains the overall average for each variable as well as its average value for Red and White wines. Divide both averages by the overall average to create an index for each variable. Multiply the index columns by 100. Which two variables have the highest index? [5 points]\n",
    "\n",
    "|                 | Red      | White    | Overall  | White_Index | Red_Index  |\n",
    "|-----------------|----------|----------|----------|-------------|------------|\n",
    "|fixed acidity\t  | 8.319637 | 6.854788 | 7.215307 | 95.003409   | 115.305381 |\n",
    "|volatile acidity |\t0.527821 | 0.278241\t| 0.339666 | 81.916094   | 155.3939   |\n",
    "|.................|..........|..........|..........|.............|............|"
   ]
  }
 ],
 "metadata": {
  "kernelspec": {
   "display_name": "Python 3 (ipykernel)",
   "language": "python",
   "name": "python3"
  },
  "language_info": {
   "codemirror_mode": {
    "name": "ipython",
    "version": 3
   },
   "file_extension": ".py",
   "mimetype": "text/x-python",
   "name": "python",
   "nbconvert_exporter": "python",
   "pygments_lexer": "ipython3",
   "version": "3.10.12"
  }
 },
 "nbformat": 4,
 "nbformat_minor": 4
}
