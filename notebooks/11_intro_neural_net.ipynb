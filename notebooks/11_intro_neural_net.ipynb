{
 "cells": [
  {
   "cell_type": "markdown",
   "metadata": {},
   "source": [
    "# Introduction to Neural Network (Digits Recognition) Model"
   ]
  },
  {
   "cell_type": "code",
   "execution_count": 1,
   "metadata": {},
   "outputs": [],
   "source": [
    "# image data\n",
    "from sklearn.datasets import load_digits\n",
    "\n",
    "# plotting\n",
    "import matplotlib.pyplot as plt\n",
    "import seaborn as sns\n",
    "\n",
    "# modeling\n",
    "from sklearn.model_selection import train_test_split\n",
    "from sklearn.metrics import confusion_matrix\n",
    "\n",
    "# data processing\n",
    "import pandas as pd"
   ]
  },
  {
   "cell_type": "code",
   "execution_count": 2,
   "metadata": {},
   "outputs": [
    {
     "data": {
      "text/plain": [
       "(1797, 8, 8)"
      ]
     },
     "execution_count": 2,
     "metadata": {},
     "output_type": "execute_result"
    }
   ],
   "source": [
    "digits = load_digits()\n",
    "digits.images.shape"
   ]
  },
  {
   "cell_type": "markdown",
   "metadata": {},
   "source": [
    "### Prepare data for modeling"
   ]
  },
  {
   "cell_type": "code",
   "execution_count": 3,
   "metadata": {},
   "outputs": [
    {
     "name": "stdout",
     "output_type": "stream",
     "text": [
      "(1347, 64) (1347, 10) (450, 64) (450, 10)\n"
     ]
    }
   ],
   "source": [
    "# grab all data (1797 records, and 8x8=64 columns)\n",
    "X = digits.data\n",
    "\n",
    "# grab the target (true) value for each image\n",
    "y = digits.target\n",
    "\n",
    "X_train, X_test, y_train_raw, y_test_raw = train_test_split(X, y, random_state=314)\n",
    "\n",
    "y_train = pd.get_dummies(y_train_raw).values\n",
    "y_test = pd.get_dummies(y_test_raw).values\n",
    "\n",
    "print(X_train.shape, y_train.shape, X_test.shape, y_test.shape)"
   ]
  },
  {
   "cell_type": "markdown",
   "metadata": {},
   "source": [
    "Before we start, we need to take a small digression. The keras Neural Network model training results are not easily reproducible since it involves a lot of shuffling and random initializations. In order to maintain consitency, we will have to initialize some random seeds before every model run. We will create a function to do this."
   ]
  },
  {
   "cell_type": "code",
   "execution_count": 4,
   "metadata": {},
   "outputs": [],
   "source": [
    "from tensorflow import random as tf_random\n",
    "import numpy as np\n",
    "import random\n",
    "\n",
    "def init_seeds(s):\n",
    "    '''\n",
    "    Initializes random seeds prior to model training \n",
    "    to ensure reproducibality of training results.\n",
    "    '''\n",
    "    tf_random.set_seed(s)\n",
    "    np.random.seed(s)\n",
    "    random.seed(s)"
   ]
  },
  {
   "cell_type": "markdown",
   "metadata": {},
   "source": [
    "### Multi-layer Perceptron (MLP) model"
   ]
  },
  {
   "cell_type": "markdown",
   "metadata": {},
   "source": [
    "Define a model with one input layer and one output layer."
   ]
  },
  {
   "cell_type": "code",
   "execution_count": 5,
   "metadata": {},
   "outputs": [
    {
     "name": "stdout",
     "output_type": "stream",
     "text": [
      "Model: \"sequential\"\n",
      "_________________________________________________________________\n",
      "Layer (type)                 Output Shape              Param #   \n",
      "=================================================================\n",
      "dense (Dense)                (None, 10)                650       \n",
      "=================================================================\n",
      "Total params: 650\n",
      "Trainable params: 650\n",
      "Non-trainable params: 0\n",
      "_________________________________________________________________\n"
     ]
    }
   ],
   "source": [
    "from tensorflow.keras import Sequential\n",
    "from tensorflow.keras.layers import Input, Dense\n",
    "\n",
    "mlp1 = Sequential(\n",
    "    [\n",
    "        Input(shape=8*8),\n",
    "        Dense(10, activation='softmax')\n",
    "    ])\n",
    "\n",
    "mlp1.summary()"
   ]
  },
  {
   "cell_type": "markdown",
   "metadata": {},
   "source": [
    "We have initialized a sequential model with an input shape of 64, and an output layer with a shape of 10. There are 650 total parameters in this model:"
   ]
  },
  {
   "cell_type": "code",
   "execution_count": 6,
   "metadata": {},
   "outputs": [
    {
     "data": {
      "text/plain": [
       "[<tf.Variable 'dense/kernel:0' shape=(64, 10) dtype=float32, numpy=\n",
       " array([[ 0.25090352, -0.00824589, -0.11959237,  0.19922218, -0.19772908,\n",
       "          0.04578969,  0.04470611, -0.04963247, -0.16321945, -0.15703271],\n",
       "        [-0.17744567, -0.04156141, -0.09583907, -0.14991923,  0.06210592,\n",
       "          0.05750898, -0.05595268,  0.02925843,  0.04929549,  0.15029976],\n",
       "        [ 0.06918669, -0.20177078,  0.05336976, -0.00194809,  0.17754573,\n",
       "          0.04927972, -0.1970984 ,  0.28222618,  0.16324756,  0.18429756],\n",
       "        [ 0.06883267, -0.06533909, -0.02175307,  0.28300676, -0.05194016,\n",
       "         -0.10077046, -0.1152827 ,  0.09342989,  0.05670998, -0.19279498],\n",
       "        [ 0.13613829, -0.00360689, -0.18796304, -0.08764927,  0.15840164,\n",
       "          0.13168448, -0.24408232,  0.2338632 , -0.04536775,  0.20611787],\n",
       "        [-0.2766504 , -0.17117503, -0.17439215,  0.11702821,  0.03080004,\n",
       "          0.23634353, -0.13367087, -0.21283562,  0.12780613,  0.0676243 ],\n",
       "        [ 0.14260703, -0.18423715, -0.17572874, -0.10285431, -0.2828112 ,\n",
       "          0.26428774, -0.23542136, -0.18040223,  0.08438578,  0.09032777],\n",
       "        [-0.21682893,  0.10258886,  0.00273171,  0.11510321, -0.20948632,\n",
       "         -0.22353046, -0.23705274, -0.2738432 , -0.12502635, -0.0088619 ],\n",
       "        [ 0.176568  ,  0.17669955,  0.21854487,  0.22133783,  0.24746636,\n",
       "          0.07144022, -0.0991604 , -0.01535949, -0.03318501,  0.23514852],\n",
       "        [ 0.15871426, -0.18941362, -0.06511438, -0.1577122 ,  0.03842548,\n",
       "          0.13249984, -0.22022569,  0.05539396, -0.1993684 , -0.02613968],\n",
       "        [ 0.07197878, -0.21175517, -0.12067886,  0.20937872, -0.0181517 ,\n",
       "          0.05115035, -0.19659649, -0.0530418 ,  0.12724271,  0.06035087],\n",
       "        [ 0.17220944,  0.09356192, -0.18986693,  0.17273939,  0.05358103,\n",
       "          0.1837649 , -0.1896454 ,  0.26775208, -0.24950047, -0.2529586 ],\n",
       "        [-0.08542433, -0.16048637, -0.131905  ,  0.13904056, -0.13081619,\n",
       "         -0.20238769,  0.01210511, -0.09805198, -0.01782787,  0.15384907],\n",
       "        [ 0.25736877,  0.2247031 , -0.21600686, -0.14655593, -0.21114478,\n",
       "          0.11435351,  0.2403622 , -0.0775896 ,  0.16051447, -0.24075188],\n",
       "        [ 0.28149864,  0.12199253, -0.16397002,  0.07041779,  0.04156482,\n",
       "          0.14806694, -0.2636064 , -0.0844703 , -0.2120033 , -0.0010632 ],\n",
       "        [-0.16455197, -0.01475963, -0.11351161, -0.20735718, -0.01595059,\n",
       "         -0.04021545, -0.01632625,  0.04032353, -0.2789012 ,  0.2026414 ],\n",
       "        [-0.26344103, -0.25782937, -0.21979487, -0.1363372 ,  0.14573386,\n",
       "         -0.10058512,  0.2465652 , -0.21482043,  0.19901171, -0.11933914],\n",
       "        [-0.10061568, -0.16276017, -0.16083959,  0.20521241, -0.1316382 ,\n",
       "         -0.04619573, -0.24584852, -0.17209932, -0.12211438,  0.20345709],\n",
       "        [ 0.10594735,  0.14519897, -0.02907351,  0.21527424, -0.15358014,\n",
       "          0.17287305,  0.14281401, -0.06092644,  0.07462341, -0.24816585],\n",
       "        [-0.16742918,  0.01217705,  0.19455588,  0.22358713,  0.1177434 ,\n",
       "          0.17720798, -0.18612841, -0.05318239,  0.15253955, -0.17107902],\n",
       "        [-0.20507747,  0.24458268,  0.18761519,  0.07351178, -0.22338124,\n",
       "          0.21393529, -0.2389484 , -0.03341717, -0.18838605, -0.04878515],\n",
       "        [ 0.09410945,  0.14009541,  0.00693059, -0.12876472, -0.12185484,\n",
       "          0.18374184,  0.27029178, -0.22852872, -0.17453784,  0.10630938],\n",
       "        [-0.02844864,  0.21615872, -0.10013652, -0.02994716,  0.25339153,\n",
       "         -0.05370644, -0.08109038,  0.26697233, -0.0968927 , -0.01932454],\n",
       "        [ 0.07198876,  0.14847773, -0.16994861, -0.21380603,  0.18639895,\n",
       "         -0.21303943, -0.06783965, -0.06230709,  0.24943611,  0.10900316],\n",
       "        [ 0.10212085, -0.19843486, -0.1982519 , -0.264783  ,  0.28249303,\n",
       "          0.05649254,  0.08219296, -0.24863835, -0.14030363, -0.01075634],\n",
       "        [ 0.2359139 ,  0.18883988,  0.07385144,  0.10771504,  0.06981283,\n",
       "          0.04270244,  0.23933372,  0.23097262,  0.19629866, -0.15570141],\n",
       "        [ 0.1978485 , -0.20454466,  0.19482297,  0.1655722 ,  0.24602476,\n",
       "         -0.18776385, -0.14472483, -0.25538936,  0.01121807,  0.14558336],\n",
       "        [-0.12799065,  0.19514754, -0.01071799, -0.1086088 ,  0.11194044,\n",
       "          0.02125525, -0.18138547,  0.15930068, -0.26879936, -0.24940033],\n",
       "        [-0.16743346, -0.27089292,  0.10264018, -0.21319944,  0.19679031,\n",
       "         -0.24363697, -0.21292129, -0.23801759,  0.26872936, -0.03362662],\n",
       "        [ 0.08142832,  0.09155107, -0.18061954, -0.1678549 , -0.17510715,\n",
       "         -0.2518155 , -0.26614872, -0.27981016,  0.17168081,  0.08834696],\n",
       "        [ 0.06275651, -0.01882333,  0.08934125, -0.1145324 ,  0.14081714,\n",
       "          0.09986773,  0.16390702, -0.09449907,  0.26498547, -0.06628485],\n",
       "        [-0.20346054,  0.1571249 ,  0.10392824,  0.11278608, -0.2277924 ,\n",
       "         -0.18784742, -0.01196811, -0.18167666,  0.14600527, -0.08831248],\n",
       "        [-0.12886167,  0.02962121,  0.06686428,  0.24759874, -0.05398804,\n",
       "         -0.28142694,  0.24547783,  0.09927589, -0.22296807, -0.27338222],\n",
       "        [-0.13090812,  0.03752506, -0.11753628,  0.01027644,  0.14240092,\n",
       "         -0.11607428,  0.16977373, -0.13673355, -0.16541524,  0.00497028],\n",
       "        [-0.26143143, -0.02070177,  0.09029314, -0.23779055, -0.02732074,\n",
       "          0.22882983, -0.2551373 , -0.22852024, -0.2507121 , -0.22322279],\n",
       "        [-0.09387647,  0.09567308, -0.27076176,  0.25502363, -0.02732766,\n",
       "          0.13688296, -0.23970117,  0.2791967 ,  0.01131284,  0.05052537],\n",
       "        [-0.07048427, -0.17771396, -0.25651783, -0.23201598,  0.01171058,\n",
       "         -0.12441568, -0.20194446,  0.27869442, -0.16495124,  0.01187944],\n",
       "        [ 0.12153196, -0.16144884, -0.24516875,  0.08173403,  0.21113798,\n",
       "          0.0136897 ,  0.08577615,  0.23993334,  0.02862677,  0.19371384],\n",
       "        [ 0.12519798,  0.266125  ,  0.2079075 , -0.16841234,  0.08302167,\n",
       "         -0.24489339,  0.02711532, -0.17428938,  0.08263037,  0.11300236],\n",
       "        [-0.03206101, -0.04463673, -0.2778096 , -0.2636649 ,  0.03512514,\n",
       "          0.22126976, -0.02928442,  0.03397828,  0.2818515 ,  0.19702175],\n",
       "        [ 0.04871911, -0.1894137 ,  0.10612351, -0.04993846,  0.02907893,\n",
       "         -0.12537257, -0.0607003 , -0.19869569,  0.00339901,  0.19859046],\n",
       "        [ 0.22503337,  0.1253106 ,  0.21696362, -0.15171123,  0.21460962,\n",
       "          0.00764275,  0.04527208,  0.18788749,  0.27218875, -0.18777634],\n",
       "        [-0.18526512, -0.15528661,  0.25239697, -0.07406263,  0.07351199,\n",
       "         -0.18760669, -0.2708205 ,  0.18728116, -0.17015696,  0.20797598],\n",
       "        [ 0.16112825,  0.28261986, -0.1759179 ,  0.2075007 ,  0.26553336,\n",
       "          0.25562283, -0.11115375, -0.2317597 ,  0.18114474,  0.12465996],\n",
       "        [ 0.21070173, -0.08473159, -0.13535723,  0.08780855,  0.01575705,\n",
       "          0.01978451, -0.05582979,  0.23987916, -0.03643477, -0.22505212],\n",
       "        [-0.10030474,  0.01952061,  0.0114488 , -0.14999974, -0.06253052,\n",
       "         -0.03460592, -0.03859079,  0.16165283,  0.2727572 ,  0.01579621],\n",
       "        [ 0.21140718, -0.20160942, -0.08188657,  0.15381041, -0.1741047 ,\n",
       "         -0.08638157,  0.13620836, -0.18963128, -0.00881356, -0.04849221],\n",
       "        [ 0.27063802, -0.16253594, -0.07466494,  0.08690634, -0.17359608,\n",
       "         -0.08296485,  0.2583258 , -0.26617062,  0.17581081,  0.10521957],\n",
       "        [-0.0963538 ,  0.21391892,  0.09012404,  0.1231938 , -0.14436848,\n",
       "          0.1728299 , -0.20690057, -0.00858837, -0.20807335,  0.00770479],\n",
       "        [-0.02917466, -0.2322151 ,  0.05571344, -0.11138465,  0.0955779 ,\n",
       "          0.06185943,  0.04770789,  0.15589869, -0.27249497, -0.0604544 ],\n",
       "        [-0.26282358, -0.24792096,  0.14895818, -0.2336965 , -0.14415266,\n",
       "          0.1981456 ,  0.17178792, -0.12488058, -0.27634755,  0.02418697],\n",
       "        [-0.10987343,  0.06605315, -0.25498354, -0.17033191, -0.19194385,\n",
       "          0.04392931, -0.09927087,  0.14171278, -0.25625604,  0.16451645],\n",
       "        [-0.2510398 , -0.08491544,  0.08277836, -0.06956403,  0.2432827 ,\n",
       "          0.09686249, -0.15279582, -0.14805865, -0.01784986,  0.09610385],\n",
       "        [ 0.03590557, -0.2028186 ,  0.09907874,  0.16704616, -0.20400563,\n",
       "         -0.00534171, -0.19806078, -0.0377561 , -0.17189533,  0.28392896],\n",
       "        [-0.20839418,  0.07567677,  0.22504345,  0.03070486,  0.23560813,\n",
       "          0.00990453, -0.21411249, -0.06567873,  0.11498445,  0.00929824],\n",
       "        [-0.04376775,  0.22429559, -0.05546598, -0.22445714, -0.09708062,\n",
       "          0.09358093, -0.05821705, -0.03778251,  0.21424201,  0.14945906],\n",
       "        [-0.06180038, -0.11189911, -0.14717889,  0.15889797,  0.11230028,\n",
       "          0.02325758,  0.24589267,  0.01765332,  0.17645699,  0.07366493],\n",
       "        [ 0.26103666,  0.05516997,  0.21889552, -0.12573653,  0.2833329 ,\n",
       "         -0.09399995,  0.22118351,  0.12972367,  0.1370647 ,  0.27585688],\n",
       "        [ 0.07188216,  0.27171287, -0.09362011,  0.23295859, -0.2382203 ,\n",
       "         -0.07614011,  0.19064274,  0.19563124, -0.07657765,  0.00041425],\n",
       "        [-0.17228201,  0.16561049, -0.27093923,  0.1845375 ,  0.22704276,\n",
       "          0.16617039, -0.19951266,  0.11783195,  0.18176469,  0.27770647],\n",
       "        [-0.12539701, -0.21791814,  0.2177091 ,  0.20973378,  0.068892  ,\n",
       "          0.16547152,  0.19491759,  0.18769473,  0.04893777, -0.05924597],\n",
       "        [-0.1269286 ,  0.19665447,  0.15257218,  0.14667651,  0.02582514,\n",
       "          0.08022213, -0.09769271,  0.10036564,  0.05266747, -0.23105142],\n",
       "        [ 0.13876662, -0.274096  ,  0.12449172,  0.06628993, -0.03008851,\n",
       "          0.2588283 ,  0.06025413, -0.17164698,  0.19687396,  0.04528806],\n",
       "        [-0.08999938, -0.05379815,  0.258558  ,  0.27602372,  0.17561871,\n",
       "          0.12646967, -0.13700862, -0.0606561 , -0.0531029 , -0.14181544]],\n",
       "       dtype=float32)>,\n",
       " <tf.Variable 'dense/bias:0' shape=(10,) dtype=float32, numpy=array([0., 0., 0., 0., 0., 0., 0., 0., 0., 0.], dtype=float32)>]"
      ]
     },
     "execution_count": 6,
     "metadata": {},
     "output_type": "execute_result"
    }
   ],
   "source": [
    "# initial weights and biases\n",
    "mlp1.weights"
   ]
  },
  {
   "cell_type": "markdown",
   "metadata": {},
   "source": [
    "_**Useful Resources:**_\n",
    "\n",
    "* [Keras Documentation: The Sequential model](https://keras.io/guides/sequential_model/)\n",
    "* [TensorFlow API Documentation: tf.keras.Sequential](https://www.tensorflow.org/api_docs/python/tf/keras/Sequential)"
   ]
  },
  {
   "cell_type": "markdown",
   "metadata": {},
   "source": [
    "Before we can train the model, we need to specify training parameters (aka compile the model)."
   ]
  },
  {
   "cell_type": "code",
   "execution_count": 7,
   "metadata": {},
   "outputs": [],
   "source": [
    "mlp1.compile(optimizer='sgd', loss='categorical_crossentropy', metrics='accuracy')"
   ]
  },
  {
   "cell_type": "code",
   "execution_count": 8,
   "metadata": {},
   "outputs": [
    {
     "data": {
      "text/plain": [
       "<tensorflow.python.keras.optimizer_v2.gradient_descent.SGD at 0x7f123cf8f850>"
      ]
     },
     "execution_count": 8,
     "metadata": {},
     "output_type": "execute_result"
    }
   ],
   "source": [
    "mlp1.optimizer"
   ]
  },
  {
   "cell_type": "markdown",
   "metadata": {},
   "source": [
    "#### Train (fit) the model"
   ]
  },
  {
   "cell_type": "code",
   "execution_count": 9,
   "metadata": {},
   "outputs": [
    {
     "name": "stdout",
     "output_type": "stream",
     "text": [
      "43/43 [==============================] - 0s 1ms/step - loss: 6.8039 - accuracy: 0.3213\n"
     ]
    },
    {
     "data": {
      "text/plain": [
       "<tensorflow.python.keras.callbacks.History at 0x7f123df262b0>"
      ]
     },
     "execution_count": 9,
     "metadata": {},
     "output_type": "execute_result"
    }
   ],
   "source": [
    "mlp1.fit(X_train, y_train, shuffle=False) # shuffle is set to false for reproducibality"
   ]
  },
  {
   "cell_type": "markdown",
   "metadata": {},
   "source": [
    "The accuracy is very low, because the model made a single pass over the dataset. The model must make multiple passes over the entire dataset in order to produce better results. This can be adjusted by using the `epoch` parameter.\n",
    "\n",
    "Epoch is equal to the number of times the algorithm sees the entire dataset.\n",
    "\n",
    "By the way, what is that mysterious-looking number 43? Where did that come from?\n",
    "\n",
    "Keras uses a `batch size` of 32 by default. So this model above created 32 batches of 43 records each by divinding the total number of records in the entire dataset (1,347) by 32. However, the default `epoch` is 1, so the model above made 43 **iterations** (forward + backward) using batches of 52 records.\n",
    "\n",
    "`batch_size * number of iterations` --> `epoch`\n",
    "\n",
    "Note that if you use `shuffle=True` in the `fit()` function, keras will shuffle the records in the training dataset before splitting them into batches.\n",
    "\n",
    "Let's increase the number of epochs."
   ]
  },
  {
   "cell_type": "code",
   "execution_count": 10,
   "metadata": {},
   "outputs": [
    {
     "name": "stdout",
     "output_type": "stream",
     "text": [
      "Epoch 1/7\n",
      "43/43 [==============================] - 0s 1ms/step - loss: 9.5409 - accuracy: 0.2690\n",
      "Epoch 2/7\n",
      "43/43 [==============================] - 0s 1ms/step - loss: 1.1058 - accuracy: 0.7594\n",
      "Epoch 3/7\n",
      "43/43 [==============================] - 0s 1ms/step - loss: 0.4381 - accuracy: 0.8723\n",
      "Epoch 4/7\n",
      "43/43 [==============================] - 0s 1ms/step - loss: 0.3480 - accuracy: 0.8926\n",
      "Epoch 5/7\n",
      "43/43 [==============================] - 0s 1ms/step - loss: 0.2389 - accuracy: 0.9204\n",
      "Epoch 6/7\n",
      "43/43 [==============================] - 0s 998us/step - loss: 0.2273 - accuracy: 0.9279\n",
      "Epoch 7/7\n",
      "43/43 [==============================] - 0s 995us/step - loss: 0.2018 - accuracy: 0.9231\n"
     ]
    }
   ],
   "source": [
    "# initialize seeds\n",
    "init_seeds(314)\n",
    "\n",
    "# prepare the model architecture\n",
    "mlp2 = Sequential(\n",
    "    [\n",
    "        Input(shape=8*8),\n",
    "        Dense(10, activation='softmax', name='output_layer')\n",
    "    ], \n",
    "    name='simple_mlp_7epochs')\n",
    "\n",
    "mlp2.compile(optimizer='sgd', loss='categorical_crossentropy', metrics='accuracy')\n",
    "\n",
    "mlp2.fit(X_train, y_train, epochs=7, shuffle=True);"
   ]
  },
  {
   "cell_type": "markdown",
   "metadata": {},
   "source": [
    "Note that now the model is making 7 passes through the entire data. For each epoch, there are 43 iterations (forward + backward) with 32 samples in each iteration.\n",
    "\n",
    "Let's try to reduce the batch size and see what happens."
   ]
  },
  {
   "cell_type": "code",
   "execution_count": 11,
   "metadata": {},
   "outputs": [
    {
     "name": "stdout",
     "output_type": "stream",
     "text": [
      "Epoch 1/7\n",
      "270/270 - 0s - loss: 1.7979 - accuracy: 0.7513\n",
      "Epoch 2/7\n",
      "270/270 - 0s - loss: 0.3756 - accuracy: 0.9013\n",
      "Epoch 3/7\n",
      "270/270 - 0s - loss: 0.2862 - accuracy: 0.9339\n",
      "Epoch 4/7\n",
      "270/270 - 0s - loss: 0.2623 - accuracy: 0.9287\n",
      "Epoch 5/7\n",
      "270/270 - 0s - loss: 0.1645 - accuracy: 0.9592\n",
      "Epoch 6/7\n",
      "270/270 - 0s - loss: 0.1230 - accuracy: 0.9703\n",
      "Epoch 7/7\n",
      "270/270 - 0s - loss: 0.1126 - accuracy: 0.9718\n"
     ]
    }
   ],
   "source": [
    "# initialize seeds\n",
    "init_seeds(314)\n",
    "\n",
    "# prepare the model architecture\n",
    "mlp3 = Sequential(\n",
    "    [\n",
    "        Input(shape=8*8),\n",
    "        Dense(10, activation='softmax', name='output_layer')\n",
    "    ], \n",
    "    name='simple_mlp_7epochs_5bs')\n",
    "\n",
    "mlp3.compile(optimizer='sgd', loss='categorical_crossentropy', metrics='accuracy')\n",
    "\n",
    "mlp3.fit(X_train, y_train, batch_size=5, epochs=7, shuffle=True, verbose=2);"
   ]
  },
  {
   "cell_type": "markdown",
   "metadata": {},
   "source": [
    "The batch size of 5 gives us 270 iterations for each epoch.\n",
    "\n",
    "**Useful Resources:**\n",
    "* [Keras FAQ: What do sample, batch, and epoch mean?](https://keras.io/getting_started/faq/#what-do-sample-batch-and-epoch-mean)\n",
    "* [What is the trade-off between batch size and number of iterations to train a neural network?](https://stats.stackexchange.com/questions/164876/what-is-the-trade-off-between-batch-size-and-number-of-iterations-to-train-a-neu)\n",
    "\n",
    "Tip: Using larger batch sizes will require more memory, and negatively impact the ability of the model to generalize well. On the other hand, very small batch size increases the risk of making the model unreliable (too stochastic.)"
   ]
  },
  {
   "cell_type": "markdown",
   "metadata": {},
   "source": [
    "#### Check the model accuracy on the test sample"
   ]
  },
  {
   "cell_type": "code",
   "execution_count": 12,
   "metadata": {},
   "outputs": [
    {
     "name": "stdout",
     "output_type": "stream",
     "text": [
      "450/450 [==============================] - 1s 877us/step - loss: 1.7820 - accuracy: 0.5711\n",
      "Loss: 178.20%, Accuracy: 57.11%\n"
     ]
    }
   ],
   "source": [
    "loss, accuracy = mlp1.evaluate(X_test, y_test, batch_size=1)\n",
    "\n",
    "print(f'Loss: {loss:.2%}, Accuracy: {accuracy:.2%}')"
   ]
  },
  {
   "cell_type": "markdown",
   "metadata": {},
   "source": [
    "We will use this multiple times, so let's create a small function for this."
   ]
  },
  {
   "cell_type": "code",
   "execution_count": 13,
   "metadata": {},
   "outputs": [
    {
     "name": "stdout",
     "output_type": "stream",
     "text": [
      "450/450 [==============================] - 0s 865us/step - loss: 1.7820 - accuracy: 0.5711\n",
      "Loss: 178.20%, Accuracy: 57.11%\n"
     ]
    }
   ],
   "source": [
    "def test_model(model, test_data, lables):\n",
    "    loss, accuracy = model.evaluate(test_data, lables, batch_size=1)\n",
    "    print(f'Loss: {loss:.2%}, Accuracy: {accuracy:.2%}')\n",
    "    \n",
    "test_model(mlp1, X_test, y_test)"
   ]
  },
  {
   "cell_type": "code",
   "execution_count": 14,
   "metadata": {},
   "outputs": [
    {
     "name": "stdout",
     "output_type": "stream",
     "text": [
      "450/450 [==============================] - 0s 845us/step - loss: 0.2125 - accuracy: 0.9356\n",
      "Loss: 21.25%, Accuracy: 93.56%\n"
     ]
    }
   ],
   "source": [
    "test_model(mlp2, X_test, y_test)"
   ]
  },
  {
   "cell_type": "code",
   "execution_count": 15,
   "metadata": {},
   "outputs": [
    {
     "name": "stdout",
     "output_type": "stream",
     "text": [
      "450/450 [==============================] - 0s 872us/step - loss: 0.2930 - accuracy: 0.9444\n",
      "Loss: 29.30%, Accuracy: 94.44%\n"
     ]
    }
   ],
   "source": [
    "test_model(mlp3, X_test, y_test)"
   ]
  },
  {
   "cell_type": "markdown",
   "metadata": {},
   "source": [
    "The model `mlp3` with a batch size of five and seven epochs seems to be performing the best.\n",
    "\n",
    "Next, let's add one hidden layer to this model and see how much improvement it yields."
   ]
  },
  {
   "cell_type": "markdown",
   "metadata": {},
   "source": [
    "#### Add a hidden layer to the model"
   ]
  },
  {
   "cell_type": "code",
   "execution_count": 16,
   "metadata": {},
   "outputs": [
    {
     "name": "stdout",
     "output_type": "stream",
     "text": [
      "Epoch 1/15\n",
      "270/270 - 0s - loss: 1.9616 - accuracy: 0.4187\n",
      "Epoch 2/15\n",
      "270/270 - 0s - loss: 1.3873 - accuracy: 0.7543\n",
      "Epoch 3/15\n",
      "270/270 - 0s - loss: 1.0583 - accuracy: 0.8508\n",
      "Epoch 4/15\n",
      "270/270 - 0s - loss: 0.8460 - accuracy: 0.8961\n",
      "Epoch 5/15\n",
      "270/270 - 0s - loss: 0.6875 - accuracy: 0.9243\n",
      "Epoch 6/15\n",
      "270/270 - 0s - loss: 0.5754 - accuracy: 0.9317\n",
      "Epoch 7/15\n",
      "270/270 - 0s - loss: 0.4919 - accuracy: 0.9451\n",
      "Epoch 8/15\n",
      "270/270 - 0s - loss: 0.4233 - accuracy: 0.9503\n",
      "Epoch 9/15\n",
      "270/270 - 0s - loss: 0.3725 - accuracy: 0.9525\n",
      "Epoch 10/15\n",
      "270/270 - 0s - loss: 0.3320 - accuracy: 0.9599\n",
      "Epoch 11/15\n",
      "270/270 - 0s - loss: 0.2978 - accuracy: 0.9659\n",
      "Epoch 12/15\n",
      "270/270 - 0s - loss: 0.2723 - accuracy: 0.9681\n",
      "Epoch 13/15\n",
      "270/270 - 0s - loss: 0.2506 - accuracy: 0.9710\n",
      "Epoch 14/15\n",
      "270/270 - 0s - loss: 0.2301 - accuracy: 0.9725\n",
      "Epoch 15/15\n",
      "270/270 - 0s - loss: 0.2127 - accuracy: 0.9755\n"
     ]
    }
   ],
   "source": [
    "# initialize seeds\n",
    "init_seeds(314)\n",
    "\n",
    "# prepare the model architecture\n",
    "mlp4 = Sequential(\n",
    "    [\n",
    "        Input(shape=8*8),\n",
    "        Dense(32, activation='sigmoid', name='hidden_layer'),\n",
    "        Dense(10, activation='softmax', name='output_layer')\n",
    "    ],\n",
    "    name='mlp_1hidden')\n",
    "\n",
    "mlp4.compile(optimizer='sgd', loss='categorical_crossentropy', metrics='accuracy')\n",
    "\n",
    "mlp4.fit(X_train, y_train, batch_size=5, epochs=15, shuffle=True, verbose=2);"
   ]
  },
  {
   "cell_type": "code",
   "execution_count": 17,
   "metadata": {},
   "outputs": [
    {
     "name": "stdout",
     "output_type": "stream",
     "text": [
      "450/450 [==============================] - 0s 852us/step - loss: 0.2765 - accuracy: 0.9511\n",
      "Loss: 27.65%, Accuracy: 95.11%\n"
     ]
    }
   ],
   "source": [
    "test_model(mlp4, X_test, y_test)"
   ]
  },
  {
   "cell_type": "markdown",
   "metadata": {},
   "source": [
    "Adding one hidden layer, and increasing the number of epochs, improved the model's accuracy."
   ]
  },
  {
   "cell_type": "markdown",
   "metadata": {},
   "source": [
    "**Interesting questions:**\n",
    "\n",
    "* [How to choose the number of hidden layers and the size of hidden layers?](https://stackoverflow.com/questions/10565868/multi-layer-perceptron-mlp-architecture-criteria-for-choosing-number-of-hidde?lq=1)\n",
    "* [Why are neural networks becoming deeper, but not wider?](https://stats.stackexchange.com/questions/222883/why-are-neural-networks-becoming-deeper-but-not-wider)"
   ]
  },
  {
   "cell_type": "markdown",
   "metadata": {},
   "source": [
    "#### Try a different activation function (relu)"
   ]
  },
  {
   "cell_type": "code",
   "execution_count": 18,
   "metadata": {},
   "outputs": [
    {
     "name": "stdout",
     "output_type": "stream",
     "text": [
      "450/450 [==============================] - 0s 880us/step - loss: 0.1813 - accuracy: 0.9511\n",
      "Loss: 18.13%, Accuracy: 95.11%\n"
     ]
    }
   ],
   "source": [
    "# initialize seeds\n",
    "init_seeds(314)\n",
    "\n",
    "# prepare the model architecture\n",
    "mlp5 = Sequential(\n",
    "    [\n",
    "        Input(shape=8*8),\n",
    "        Dense(32, activation='relu', name='hidden_layer'),\n",
    "        Dense(10, activation='softmax', name='output_layer')\n",
    "    ],\n",
    "    name='mlp_1hidden_relu')\n",
    "\n",
    "mlp5.compile(optimizer='sgd', loss='categorical_crossentropy', metrics='accuracy')\n",
    "\n",
    "mlp5.fit(X_train, y_train, batch_size=5, epochs=15, shuffle=True, verbose=0)\n",
    "\n",
    "test_model(mlp5, X_test, y_test)"
   ]
  },
  {
   "cell_type": "markdown",
   "metadata": {},
   "source": [
    "Changing the activation function did not improve the model performance for this dataset. However, the `relu` activation function usually outperforms `sigmoid` and it's usually preferred."
   ]
  },
  {
   "cell_type": "markdown",
   "metadata": {},
   "source": [
    "#### Try a different optimizer (adam)"
   ]
  },
  {
   "cell_type": "code",
   "execution_count": 19,
   "metadata": {},
   "outputs": [
    {
     "name": "stdout",
     "output_type": "stream",
     "text": [
      "450/450 [==============================] - 0s 892us/step - loss: 0.1311 - accuracy: 0.9622\n",
      "Loss: 13.11%, Accuracy: 96.22%\n"
     ]
    }
   ],
   "source": [
    "# initialize seeds\n",
    "init_seeds(314)\n",
    "\n",
    "# prepare the model architecture\n",
    "mlp6 = Sequential(\n",
    "    [\n",
    "        Input(shape=8*8),\n",
    "        Dense(32, activation='relu', name='hidden_layer'),\n",
    "        Dense(10, activation='softmax', name='output_layer')\n",
    "    ],\n",
    "    name='mlp_1hidden_adam')\n",
    "\n",
    "mlp6.compile(optimizer='adam', loss='categorical_crossentropy', metrics='accuracy')\n",
    "\n",
    "mlp6.fit(X_train, y_train, batch_size=5, epochs=15, shuffle=True, verbose=0)\n",
    "\n",
    "test_model(mlp6, X_test, y_test)"
   ]
  },
  {
   "cell_type": "markdown",
   "metadata": {},
   "source": [
    "The adam optimizer improved the model's performance."
   ]
  },
  {
   "cell_type": "markdown",
   "metadata": {},
   "source": [
    "**Useful resource:**\n",
    "\n",
    "* [Keras Documentation: Adam](https://keras.io/api/optimizers/adam/)"
   ]
  },
  {
   "cell_type": "markdown",
   "metadata": {},
   "source": [
    "### Plot confusion matrix"
   ]
  },
  {
   "cell_type": "code",
   "execution_count": 21,
   "metadata": {},
   "outputs": [
    {
     "data": {
      "text/plain": [
       "array([[1.9275278e-13, 9.9973744e-01, 2.6787047e-05, 1.0724939e-06,\n",
       "        8.1516728e-06, 1.8876939e-05, 1.3232203e-05, 1.6578849e-07,\n",
       "        1.9441242e-04, 2.9286706e-09],\n",
       "       [3.8857375e-13, 1.6406708e-04, 9.9982697e-01, 9.0505710e-06,\n",
       "        4.2048292e-12, 6.4333179e-12, 9.5952975e-11, 4.6730102e-12,\n",
       "        1.3278194e-10, 2.9341689e-11]], dtype=float32)"
      ]
     },
     "execution_count": 21,
     "metadata": {},
     "output_type": "execute_result"
    }
   ],
   "source": [
    "# calculate predicted probabilities\n",
    "probs = mlp6.predict(X_test)\n",
    "probs[:2]"
   ]
  },
  {
   "cell_type": "code",
   "execution_count": 22,
   "metadata": {},
   "outputs": [
    {
     "data": {
      "text/plain": [
       "['0.00000',\n",
       " '0.99974',\n",
       " '0.00003',\n",
       " '0.00000',\n",
       " '0.00001',\n",
       " '0.00002',\n",
       " '0.00001',\n",
       " '0.00000',\n",
       " '0.00019',\n",
       " '0.00000']"
      ]
     },
     "execution_count": 22,
     "metadata": {},
     "output_type": "execute_result"
    }
   ],
   "source": [
    "# we can use formatted string literal to print float values instead\n",
    "[f'{x:.5f}' for x in probs[0]]"
   ]
  },
  {
   "cell_type": "markdown",
   "metadata": {},
   "source": [
    "The model returns a probability for each lable (digit). We can grab the lable (digit) that has the highest probability. For example, for the first sample, the model is predicting a very high probability of 0.99974 for that digit to be 1."
   ]
  },
  {
   "cell_type": "code",
   "execution_count": 23,
   "metadata": {},
   "outputs": [
    {
     "data": {
      "text/plain": [
       "[1, 2]"
      ]
     },
     "execution_count": 23,
     "metadata": {},
     "output_type": "execute_result"
    }
   ],
   "source": [
    "# grab the digit with max probability\n",
    "y_preds = [np.argmax(x) for x in probs]\n",
    "y_preds[:2]"
   ]
  },
  {
   "cell_type": "code",
   "execution_count": 24,
   "metadata": {},
   "outputs": [
    {
     "data": {
      "image/png": "[encoded data removed]",
      "text/plain": [
       "<Figure size 432x432 with 1 Axes>"
      ]
     },
     "metadata": {
      "needs_background": "light"
     },
     "output_type": "display_data"
    }
   ],
   "source": [
    "cfm = confusion_matrix(y_test_raw, y_preds)\n",
    "plt.figure(figsize=(6, 6))\n",
    "\n",
    "sns.heatmap(cfm, annot=True, cbar=False, cmap='YlGnBu')\n",
    "plt.xlabel('Predicted value', fontsize=12)\n",
    "plt.ylabel('True value', fontsize=12)\n",
    "plt.title('Confusion Matrix (Neural Network)', fontsize=12, weight='semibold');"
   ]
  },
  {
   "cell_type": "markdown",
   "metadata": {},
   "source": [
    "#### Saving (exporting) the model"
   ]
  },
  {
   "cell_type": "markdown",
   "metadata": {},
   "source": [
    "Save the model as a single `HDF5` file. [`HDF5` stands for Hierarchical Data Format, v5.]"
   ]
  },
  {
   "cell_type": "code",
   "execution_count": 25,
   "metadata": {},
   "outputs": [],
   "source": [
    "mlp_path = '../misc/digits_recognition_mlp_model.h5'\n",
    "\n",
    "mlp6.save(mlp_path)"
   ]
  },
  {
   "cell_type": "markdown",
   "metadata": {},
   "source": [
    "This saves the trained model and all trackable objects (config, weights, and optimizer) attached to the model."
   ]
  },
  {
   "cell_type": "markdown",
   "metadata": {},
   "source": [
    "### Load a saved model"
   ]
  },
  {
   "cell_type": "markdown",
   "metadata": {},
   "source": [
    "We can load a pre-trained (and saved) model by using `load_model()` function."
   ]
  },
  {
   "cell_type": "code",
   "execution_count": 27,
   "metadata": {},
   "outputs": [
    {
     "name": "stdout",
     "output_type": "stream",
     "text": [
      "Model: \"mlp_1hidden_adam\"\n",
      "_________________________________________________________________\n",
      "Layer (type)                 Output Shape              Param #   \n",
      "=================================================================\n",
      "hidden_layer (Dense)         (None, 32)                2080      \n",
      "_________________________________________________________________\n",
      "output_layer (Dense)         (None, 10)                330       \n",
      "=================================================================\n",
      "Total params: 2,410\n",
      "Trainable params: 2,410\n",
      "Non-trainable params: 0\n",
      "_________________________________________________________________\n"
     ]
    }
   ],
   "source": [
    "from tensorflow.keras.models import load_model\n",
    "\n",
    "mlp_loaded = load_model(mlp_path)\n",
    "\n",
    "mlp_loaded.summary()"
   ]
  },
  {
   "cell_type": "code",
   "execution_count": 28,
   "metadata": {},
   "outputs": [
    {
     "data": {
      "text/plain": [
       "<tensorflow.python.keras.optimizer_v2.adam.Adam at 0x7f1234372c10>"
      ]
     },
     "execution_count": 28,
     "metadata": {},
     "output_type": "execute_result"
    }
   ],
   "source": [
    "mlp_loaded.optimizer"
   ]
  },
  {
   "cell_type": "code",
   "execution_count": 29,
   "metadata": {},
   "outputs": [
    {
     "data": {
      "text/plain": [
       "array([[1.9275278e-13, 9.9973744e-01, 2.6787047e-05, ..., 1.6578849e-07,\n",
       "        1.9441242e-04, 2.9286706e-09],\n",
       "       [3.8857375e-13, 1.6406708e-04, 9.9982697e-01, ..., 4.6730102e-12,\n",
       "        1.3278194e-10, 2.9341689e-11],\n",
       "       [6.7053931e-13, 3.7581170e-08, 2.7678000e-06, ..., 9.9949551e-01,\n",
       "        1.6355674e-08, 2.6473634e-07],\n",
       "       ...,\n",
       "       [4.2291550e-13, 9.9824095e-01, 4.8917345e-06, ..., 7.2492228e-04,\n",
       "        9.0323330e-04, 6.4433841e-08],\n",
       "       [9.9677473e-01, 1.2797801e-06, 1.7539735e-07, ..., 2.2577078e-05,\n",
       "        2.5868868e-03, 2.9552248e-04],\n",
       "       [8.7491689e-13, 1.5624377e-09, 9.8177457e-01, ..., 1.4982690e-07,\n",
       "        1.8133967e-05, 2.9434011e-08]], dtype=float32)"
      ]
     },
     "execution_count": 29,
     "metadata": {},
     "output_type": "execute_result"
    }
   ],
   "source": [
    "# use the model that we just loaded to predict values\n",
    "mlp_loaded.predict(X_test)"
   ]
  },
  {
   "cell_type": "markdown",
   "metadata": {},
   "source": [
    "**Useful resources:**\n",
    "* [Keras: Serialization and saving](https://keras.io/guides/serialization_and_saving/)\n",
    "* [Keras: Model saving and serialization APIs](https://keras.io/api/models/model_saving_apis/)"
   ]
  },
  {
   "cell_type": "markdown",
   "metadata": {},
   "source": [
    "#### Visualize the predictions"
   ]
  },
  {
   "cell_type": "code",
   "execution_count": 30,
   "metadata": {},
   "outputs": [
    {
     "data": {
      "text/plain": [
       "array([[9.9999774e-01, 1.8023743e-12, 2.1551109e-07, 2.2191372e-08,\n",
       "        1.0842578e-08, 3.7282920e-11, 1.9473062e-10, 1.9128447e-06,\n",
       "        6.2293831e-10, 9.8304774e-08],\n",
       "       [6.9353432e-18, 9.9981111e-01, 1.5117591e-09, 2.7098274e-08,\n",
       "        1.7649673e-04, 7.3935230e-06, 1.0111430e-08, 6.3249593e-07,\n",
       "        4.2711458e-06, 2.1146828e-08],\n",
       "       [1.4964164e-11, 3.7150099e-03, 9.9107802e-01, 5.2602127e-07,\n",
       "        5.5658029e-07, 7.3826622e-12, 4.6485802e-09, 5.1274783e-05,\n",
       "        5.1545715e-03, 5.1370924e-10],\n",
       "       [1.7166721e-10, 1.5253393e-08, 7.6922931e-04, 9.9902654e-01,\n",
       "        9.9590898e-11, 3.4933404e-05, 3.1691966e-10, 3.2056693e-07,\n",
       "        2.7211752e-06, 1.6621430e-04],\n",
       "       [1.9447117e-04, 3.1121456e-04, 2.2015030e-11, 5.0102318e-11,\n",
       "        9.9908054e-01, 8.9995682e-09, 3.7538476e-04, 4.2137249e-06,\n",
       "        3.4063098e-05, 6.6805041e-09]], dtype=float32)"
      ]
     },
     "execution_count": 30,
     "metadata": {},
     "output_type": "execute_result"
    }
   ],
   "source": [
    "# grab raw model predictions for the entire dataset\n",
    "preds_raw = mlp6.predict(digits.data)\n",
    "\n",
    "# view the first ten predictions\n",
    "preds_raw[:5]"
   ]
  },
  {
   "cell_type": "code",
   "execution_count": 31,
   "metadata": {},
   "outputs": [
    {
     "data": {
      "text/plain": [
       "[0, 1, 2, 3, 4, 5, 6, 7, 8, 9]"
      ]
     },
     "execution_count": 31,
     "metadata": {},
     "output_type": "execute_result"
    }
   ],
   "source": [
    "# grab the predicted digit (based on the highest probability) for the entire dataset\n",
    "preds = [np.argmax(pred) for pred in mlp6.predict(digits.data)]\n",
    "\n",
    "# view the first ten predictions\n",
    "preds[:10]"
   ]
  },
  {
   "cell_type": "markdown",
   "metadata": {},
   "source": [
    "Let's plot the first 100 predictions. The labels are shown in green if the model predicted the digit correcly, otherwise it's shown in red."
   ]
  },
  {
   "cell_type": "code",
   "execution_count": 32,
   "metadata": {},
   "outputs": [
    {
     "data": {
      "image/png": "[encoded data removed]",
      "text/plain": [
       "<Figure size 504x504 with 100 Axes>"
      ]
     },
     "metadata": {},
     "output_type": "display_data"
    }
   ],
   "source": [
    "fig, axes = plt.subplots(10, 10, figsize=(7, 7), subplot_kw={'xticks':[], 'yticks':[]})\n",
    "\n",
    "for i, ax in enumerate(axes.flat):\n",
    "    ax.imshow(digits.images[i], cmap='binary', interpolation='bicubic')\n",
    "    ax.set_xticklabels([])\n",
    "    ax.set_yticklabels([])\n",
    "    pred = preds[i]\n",
    "    act = y[i]\n",
    "    if pred == act:\n",
    "        ax.text(0.05, 0.05, preds[i], color='green',\n",
    "                weight='semibold', transform=ax.transAxes)\n",
    "    else:\n",
    "        ax.text(0.05, 0.05, preds[i], color='tomato',\n",
    "                weight='semibold', transform=ax.transAxes)\n",
    "plt.show();"
   ]
  }
 ],
 "metadata": {
  "kernelspec": {
   "display_name": "Python 3",
   "language": "python",
   "name": "python3"
  },
  "language_info": {
   "codemirror_mode": {
    "name": "ipython",
    "version": 3
   },
   "file_extension": ".py",
   "mimetype": "text/x-python",
   "name": "python",
   "nbconvert_exporter": "python",
   "pygments_lexer": "ipython3",
   "version": "3.8.3"
  }
 },
 "nbformat": 4,
 "nbformat_minor": 4
}
